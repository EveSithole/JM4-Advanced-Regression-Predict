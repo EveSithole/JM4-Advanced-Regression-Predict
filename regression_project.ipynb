{
 "cells": [
  {
   "cell_type": "markdown",
   "id": "rubber-shadow",
   "metadata": {},
   "source": [
    "# Price Prediction Of Apples Per Kilogram"
   ]
  },
  {
   "cell_type": "markdown",
   "id": "exotic-photography",
   "metadata": {},
   "source": [
    "## Introduction"
   ]
  },
  {
   "cell_type": "markdown",
   "id": "composed-apple",
   "metadata": {},
   "source": [
    "The objective of this project is to **construct a regression algorithm, capable of accurately predicting how much a kilogram of Golden Delicious Apples will cost given certain features.** Different algorithms such as **nultiple linear regression, decision trees, support vector machines and random forests** will be trained and evaluated on the Root Mean Squared Error **(RMSE)** to select the best performing algorithm."
   ]
  },
  {
   "cell_type": "code",
   "execution_count": 1,
   "id": "objective-finish",
   "metadata": {},
   "outputs": [],
   "source": [
    "# Import libraries we need to work with\n",
    "import numpy as np\n",
    "import pandas as pd\n",
    "import seaborn as sns\n",
    "import matplotlib.pyplot as plt\n",
    "from matplotlib import rc\n",
    "from scipy.stats import pearsonr\n",
    "from sklearn.tree import DecisionTreeRegressor\n",
    "from sklearn.tree import plot_tree\n",
    "from sklearn.metrics import mean_squared_error\n",
    "from sklearn.model_selection import train_test_split\n",
    "from sklearn.svm import SVR\n",
    "from sklearn.ensemble import BaggingRegressor\n",
    "from sklearn.ensemble import AdaBoostRegressor\n",
    "from sklearn.ensemble import RandomForestRegressor\n",
    "from sklearn.preprocessing import StandardScaler\n",
    "from sklearn.linear_model import LinearRegression\n",
    "%matplotlib inline"
   ]
  },
  {
   "cell_type": "code",
   "execution_count": 2,
   "id": "short-narrow",
   "metadata": {},
   "outputs": [],
   "source": [
    "# Load the data as a Pandas DataFrame\n",
    "df_train = pd.read_csv('df-train_set.csv') # remember to push the dataset folder to git and update your path to a git one\n",
    "df_test = pd.read_csv('df-test_set.csv')"
   ]
  },
  {
   "cell_type": "markdown",
   "id": "decimal-saudi",
   "metadata": {},
   "source": [
    "## Exploring & understanding the data"
   ]
  },
  {
   "cell_type": "code",
   "execution_count": 3,
   "id": "coordinated-appearance",
   "metadata": {},
   "outputs": [
    {
     "data": {
      "text/html": [
       "<div>\n",
       "<style scoped>\n",
       "    .dataframe tbody tr th:only-of-type {\n",
       "        vertical-align: middle;\n",
       "    }\n",
       "\n",
       "    .dataframe tbody tr th {\n",
       "        vertical-align: top;\n",
       "    }\n",
       "\n",
       "    .dataframe thead th {\n",
       "        text-align: right;\n",
       "    }\n",
       "</style>\n",
       "<table border=\"1\" class=\"dataframe\">\n",
       "  <thead>\n",
       "    <tr style=\"text-align: right;\">\n",
       "      <th></th>\n",
       "      <th>Province</th>\n",
       "      <th>Container</th>\n",
       "      <th>Size_Grade</th>\n",
       "      <th>Weight_Kg</th>\n",
       "      <th>Commodities</th>\n",
       "      <th>Date</th>\n",
       "      <th>Low_Price</th>\n",
       "      <th>High_Price</th>\n",
       "      <th>Sales_Total</th>\n",
       "      <th>Total_Qty_Sold</th>\n",
       "      <th>Total_Kg_Sold</th>\n",
       "      <th>Stock_On_Hand</th>\n",
       "      <th>avg_price_per_kg</th>\n",
       "    </tr>\n",
       "  </thead>\n",
       "  <tbody>\n",
       "    <tr>\n",
       "      <th>0</th>\n",
       "      <td>CAPE</td>\n",
       "      <td>EC120</td>\n",
       "      <td>1L</td>\n",
       "      <td>12.0</td>\n",
       "      <td>APPLE GRANNY SMITH</td>\n",
       "      <td>2020-03-10</td>\n",
       "      <td>108.0</td>\n",
       "      <td>112.0</td>\n",
       "      <td>3236.0</td>\n",
       "      <td>29</td>\n",
       "      <td>348.0</td>\n",
       "      <td>0</td>\n",
       "      <td>9.30</td>\n",
       "    </tr>\n",
       "    <tr>\n",
       "      <th>1</th>\n",
       "      <td>CAPE</td>\n",
       "      <td>M4183</td>\n",
       "      <td>1L</td>\n",
       "      <td>18.3</td>\n",
       "      <td>APPLE GOLDEN DELICIOUS</td>\n",
       "      <td>2020-09-09</td>\n",
       "      <td>150.0</td>\n",
       "      <td>170.0</td>\n",
       "      <td>51710.0</td>\n",
       "      <td>332</td>\n",
       "      <td>6075.6</td>\n",
       "      <td>822</td>\n",
       "      <td>8.51</td>\n",
       "    </tr>\n",
       "    <tr>\n",
       "      <th>2</th>\n",
       "      <td>GAUTENG</td>\n",
       "      <td>AT200</td>\n",
       "      <td>1L</td>\n",
       "      <td>20.0</td>\n",
       "      <td>AVOCADO PINKERTON</td>\n",
       "      <td>2020-05-05</td>\n",
       "      <td>70.0</td>\n",
       "      <td>80.0</td>\n",
       "      <td>4860.0</td>\n",
       "      <td>66</td>\n",
       "      <td>1320.0</td>\n",
       "      <td>50</td>\n",
       "      <td>3.68</td>\n",
       "    </tr>\n",
       "    <tr>\n",
       "      <th>3</th>\n",
       "      <td>TRANSVAAL</td>\n",
       "      <td>BJ090</td>\n",
       "      <td>1L</td>\n",
       "      <td>9.0</td>\n",
       "      <td>TOMATOES-LONG LIFE</td>\n",
       "      <td>2020-01-20</td>\n",
       "      <td>60.0</td>\n",
       "      <td>60.0</td>\n",
       "      <td>600.0</td>\n",
       "      <td>10</td>\n",
       "      <td>90.0</td>\n",
       "      <td>0</td>\n",
       "      <td>6.67</td>\n",
       "    </tr>\n",
       "    <tr>\n",
       "      <th>4</th>\n",
       "      <td>WESTERN FREESTATE</td>\n",
       "      <td>PP100</td>\n",
       "      <td>1R</td>\n",
       "      <td>10.0</td>\n",
       "      <td>POTATO SIFRA (WASHED)</td>\n",
       "      <td>2020-07-14</td>\n",
       "      <td>40.0</td>\n",
       "      <td>45.0</td>\n",
       "      <td>41530.0</td>\n",
       "      <td>927</td>\n",
       "      <td>9270.0</td>\n",
       "      <td>393</td>\n",
       "      <td>4.48</td>\n",
       "    </tr>\n",
       "  </tbody>\n",
       "</table>\n",
       "</div>"
      ],
      "text/plain": [
       "            Province Container Size_Grade  Weight_Kg             Commodities  \\\n",
       "0               CAPE     EC120         1L       12.0      APPLE GRANNY SMITH   \n",
       "1               CAPE     M4183         1L       18.3  APPLE GOLDEN DELICIOUS   \n",
       "2            GAUTENG     AT200         1L       20.0       AVOCADO PINKERTON   \n",
       "3          TRANSVAAL     BJ090         1L        9.0      TOMATOES-LONG LIFE   \n",
       "4  WESTERN FREESTATE     PP100         1R       10.0   POTATO SIFRA (WASHED)   \n",
       "\n",
       "         Date  Low_Price  High_Price  Sales_Total  Total_Qty_Sold  \\\n",
       "0  2020-03-10      108.0       112.0       3236.0              29   \n",
       "1  2020-09-09      150.0       170.0      51710.0             332   \n",
       "2  2020-05-05       70.0        80.0       4860.0              66   \n",
       "3  2020-01-20       60.0        60.0        600.0              10   \n",
       "4  2020-07-14       40.0        45.0      41530.0             927   \n",
       "\n",
       "   Total_Kg_Sold  Stock_On_Hand  avg_price_per_kg  \n",
       "0          348.0              0              9.30  \n",
       "1         6075.6            822              8.51  \n",
       "2         1320.0             50              3.68  \n",
       "3           90.0              0              6.67  \n",
       "4         9270.0            393              4.48  "
      ]
     },
     "execution_count": 3,
     "metadata": {},
     "output_type": "execute_result"
    }
   ],
   "source": [
    "# view the top 5 rows of the training data\n",
    "df_train.head()"
   ]
  },
  {
   "cell_type": "code",
   "execution_count": 4,
   "id": "explicit-narrow",
   "metadata": {},
   "outputs": [
    {
     "data": {
      "text/plain": [
       "(64376, 13)"
      ]
     },
     "execution_count": 4,
     "metadata": {},
     "output_type": "execute_result"
    }
   ],
   "source": [
    "# Get the number of rows and columns of the data\n",
    "df_train.shape"
   ]
  },
  {
   "cell_type": "markdown",
   "id": "homeless-spoke",
   "metadata": {},
   "source": [
    "The data contains **64376 rows** along with **13 features.**"
   ]
  },
  {
   "cell_type": "code",
   "execution_count": 5,
   "id": "indian-receiver",
   "metadata": {},
   "outputs": [
    {
     "name": "stdout",
     "output_type": "stream",
     "text": [
      "<class 'pandas.core.frame.DataFrame'>\n",
      "RangeIndex: 64376 entries, 0 to 64375\n",
      "Data columns (total 13 columns):\n",
      " #   Column            Non-Null Count  Dtype  \n",
      "---  ------            --------------  -----  \n",
      " 0   Province          64376 non-null  object \n",
      " 1   Container         64376 non-null  object \n",
      " 2   Size_Grade        64376 non-null  object \n",
      " 3   Weight_Kg         64376 non-null  float64\n",
      " 4   Commodities       64376 non-null  object \n",
      " 5   Date              64376 non-null  object \n",
      " 6   Low_Price         64376 non-null  float64\n",
      " 7   High_Price        64376 non-null  float64\n",
      " 8   Sales_Total       64376 non-null  float64\n",
      " 9   Total_Qty_Sold    64376 non-null  int64  \n",
      " 10  Total_Kg_Sold     64376 non-null  float64\n",
      " 11  Stock_On_Hand     64376 non-null  int64  \n",
      " 12  avg_price_per_kg  64376 non-null  float64\n",
      "dtypes: float64(6), int64(2), object(5)\n",
      "memory usage: 6.4+ MB\n"
     ]
    }
   ],
   "source": [
    "# Get a quick description of the train data\n",
    "df_train.info()"
   ]
  },
  {
   "cell_type": "markdown",
   "id": "alpine-fields",
   "metadata": {},
   "source": [
    "Looking at our columns we can see the number and datatypes of features we are working with. The list of **features** we have are:\n",
    "- Province    (categorical)\n",
    "- Container   (categorical)\n",
    "- Size_Grade  (categorical)\n",
    "- Weight_Kg\n",
    "- Commodities (categorical)\n",
    "- Date        (interval)\n",
    "- Low_Price\n",
    "- High_Price\n",
    "- Sales_Total\n",
    "- Total_Qty_Sold\n",
    "- Total_Kg_Sold\n",
    "- Stock_On_Hand\n",
    "- avg_price_per_kg\n",
    "\n",
    "There are **no null values** in the dataset and there are **5 non numeric values.**"
   ]
  },
  {
   "cell_type": "code",
   "execution_count": 6,
   "id": "prepared-tuition",
   "metadata": {},
   "outputs": [
    {
     "data": {
      "text/html": [
       "<div>\n",
       "<style scoped>\n",
       "    .dataframe tbody tr th:only-of-type {\n",
       "        vertical-align: middle;\n",
       "    }\n",
       "\n",
       "    .dataframe tbody tr th {\n",
       "        vertical-align: top;\n",
       "    }\n",
       "\n",
       "    .dataframe thead th {\n",
       "        text-align: right;\n",
       "    }\n",
       "</style>\n",
       "<table border=\"1\" class=\"dataframe\">\n",
       "  <thead>\n",
       "    <tr style=\"text-align: right;\">\n",
       "      <th></th>\n",
       "      <th>Weight_Kg</th>\n",
       "      <th>Low_Price</th>\n",
       "      <th>High_Price</th>\n",
       "      <th>Sales_Total</th>\n",
       "      <th>Total_Qty_Sold</th>\n",
       "      <th>Total_Kg_Sold</th>\n",
       "      <th>Stock_On_Hand</th>\n",
       "      <th>avg_price_per_kg</th>\n",
       "    </tr>\n",
       "  </thead>\n",
       "  <tbody>\n",
       "    <tr>\n",
       "      <th>count</th>\n",
       "      <td>64376.000000</td>\n",
       "      <td>64376.000000</td>\n",
       "      <td>64376.000000</td>\n",
       "      <td>6.437600e+04</td>\n",
       "      <td>64376.000000</td>\n",
       "      <td>64376.000000</td>\n",
       "      <td>64376.000000</td>\n",
       "      <td>64376.00</td>\n",
       "    </tr>\n",
       "    <tr>\n",
       "      <th>mean</th>\n",
       "      <td>12.781592</td>\n",
       "      <td>75.651938</td>\n",
       "      <td>89.607858</td>\n",
       "      <td>1.939501e+04</td>\n",
       "      <td>446.104402</td>\n",
       "      <td>3336.641295</td>\n",
       "      <td>477.646328</td>\n",
       "      <td>NaN</td>\n",
       "    </tr>\n",
       "    <tr>\n",
       "      <th>std</th>\n",
       "      <td>35.943052</td>\n",
       "      <td>159.508144</td>\n",
       "      <td>172.223177</td>\n",
       "      <td>4.442192e+04</td>\n",
       "      <td>1184.169758</td>\n",
       "      <td>7682.295441</td>\n",
       "      <td>1453.892091</td>\n",
       "      <td>NaN</td>\n",
       "    </tr>\n",
       "    <tr>\n",
       "      <th>min</th>\n",
       "      <td>0.120000</td>\n",
       "      <td>1.000000</td>\n",
       "      <td>1.000000</td>\n",
       "      <td>-5.770000e+04</td>\n",
       "      <td>-595.000000</td>\n",
       "      <td>-5040.000000</td>\n",
       "      <td>-512.000000</td>\n",
       "      <td>-inf</td>\n",
       "    </tr>\n",
       "    <tr>\n",
       "      <th>25%</th>\n",
       "      <td>7.000000</td>\n",
       "      <td>30.000000</td>\n",
       "      <td>35.000000</td>\n",
       "      <td>1.154000e+03</td>\n",
       "      <td>20.000000</td>\n",
       "      <td>175.000000</td>\n",
       "      <td>0.000000</td>\n",
       "      <td>4.02</td>\n",
       "    </tr>\n",
       "    <tr>\n",
       "      <th>50%</th>\n",
       "      <td>10.000000</td>\n",
       "      <td>46.000000</td>\n",
       "      <td>55.000000</td>\n",
       "      <td>5.400000e+03</td>\n",
       "      <td>107.000000</td>\n",
       "      <td>940.000000</td>\n",
       "      <td>76.000000</td>\n",
       "      <td>6.00</td>\n",
       "    </tr>\n",
       "    <tr>\n",
       "      <th>75%</th>\n",
       "      <td>11.000000</td>\n",
       "      <td>80.000000</td>\n",
       "      <td>100.000000</td>\n",
       "      <td>1.877200e+04</td>\n",
       "      <td>390.000000</td>\n",
       "      <td>3250.000000</td>\n",
       "      <td>381.000000</td>\n",
       "      <td>8.67</td>\n",
       "    </tr>\n",
       "    <tr>\n",
       "      <th>max</th>\n",
       "      <td>500.000000</td>\n",
       "      <td>4400.000000</td>\n",
       "      <td>4400.000000</td>\n",
       "      <td>1.134701e+06</td>\n",
       "      <td>39453.000000</td>\n",
       "      <td>192230.000000</td>\n",
       "      <td>93193.000000</td>\n",
       "      <td>inf</td>\n",
       "    </tr>\n",
       "  </tbody>\n",
       "</table>\n",
       "</div>"
      ],
      "text/plain": [
       "          Weight_Kg     Low_Price    High_Price   Sales_Total  Total_Qty_Sold  \\\n",
       "count  64376.000000  64376.000000  64376.000000  6.437600e+04    64376.000000   \n",
       "mean      12.781592     75.651938     89.607858  1.939501e+04      446.104402   \n",
       "std       35.943052    159.508144    172.223177  4.442192e+04     1184.169758   \n",
       "min        0.120000      1.000000      1.000000 -5.770000e+04     -595.000000   \n",
       "25%        7.000000     30.000000     35.000000  1.154000e+03       20.000000   \n",
       "50%       10.000000     46.000000     55.000000  5.400000e+03      107.000000   \n",
       "75%       11.000000     80.000000    100.000000  1.877200e+04      390.000000   \n",
       "max      500.000000   4400.000000   4400.000000  1.134701e+06    39453.000000   \n",
       "\n",
       "       Total_Kg_Sold  Stock_On_Hand  avg_price_per_kg  \n",
       "count   64376.000000   64376.000000          64376.00  \n",
       "mean     3336.641295     477.646328               NaN  \n",
       "std      7682.295441    1453.892091               NaN  \n",
       "min     -5040.000000    -512.000000              -inf  \n",
       "25%       175.000000       0.000000              4.02  \n",
       "50%       940.000000      76.000000              6.00  \n",
       "75%      3250.000000     381.000000              8.67  \n",
       "max    192230.000000   93193.000000               inf  "
      ]
     },
     "execution_count": 6,
     "metadata": {},
     "output_type": "execute_result"
    }
   ],
   "source": [
    "# Summary of numerical attributes in train data set\n",
    "df_train.describe()"
   ]
  },
  {
   "cell_type": "code",
   "execution_count": 7,
   "id": "immediate-dynamics",
   "metadata": {},
   "outputs": [
    {
     "data": {
      "text/plain": [
       "Weight_Kg           10.746241\n",
       "Low_Price           10.071797\n",
       "High_Price           9.519075\n",
       "Sales_Total          7.372393\n",
       "Total_Qty_Sold       9.448153\n",
       "Total_Kg_Sold        7.171355\n",
       "Stock_On_Hand       13.767932\n",
       "avg_price_per_kg          NaN\n",
       "dtype: float64"
      ]
     },
     "execution_count": 7,
     "metadata": {},
     "output_type": "execute_result"
    }
   ],
   "source": [
    "# Determine the skewness of data i.e how spread symmetrical the data is\n",
    "df_train.skew()"
   ]
  },
  {
   "cell_type": "markdown",
   "id": "attempted-configuration",
   "metadata": {},
   "source": [
    "Since the skew values of all the numerical columns (except for avg_price_per_kg) are greater than 1, the columns  are **skewed to the right.**"
   ]
  },
  {
   "cell_type": "code",
   "execution_count": 8,
   "id": "finnish-listening",
   "metadata": {},
   "outputs": [
    {
     "data": {
      "text/plain": [
       "Weight_Kg           116.022033\n",
       "Low_Price           123.977754\n",
       "High_Price          109.763276\n",
       "Sales_Total          89.378966\n",
       "Total_Qty_Sold      152.646835\n",
       "Total_Kg_Sold        83.222862\n",
       "Stock_On_Hand       437.075702\n",
       "avg_price_per_kg           NaN\n",
       "dtype: float64"
      ]
     },
     "execution_count": 8,
     "metadata": {},
     "output_type": "execute_result"
    }
   ],
   "source": [
    "# Determine the kurtosis of the data i.e the measure of outliers present in the data\n",
    "df_train.kurtosis()"
   ]
  },
  {
   "cell_type": "markdown",
   "id": "sexual-lottery",
   "metadata": {},
   "source": [
    "Since the kurtosis values of all the numerical columns (except for avg_price_per_kg) are greater than 3, the columns  have a **large number of outliers.**"
   ]
  },
  {
   "cell_type": "code",
   "execution_count": 9,
   "id": "found-skill",
   "metadata": {},
   "outputs": [
    {
     "data": {
      "text/html": [
       "<div>\n",
       "<style scoped>\n",
       "    .dataframe tbody tr th:only-of-type {\n",
       "        vertical-align: middle;\n",
       "    }\n",
       "\n",
       "    .dataframe tbody tr th {\n",
       "        vertical-align: top;\n",
       "    }\n",
       "\n",
       "    .dataframe thead th {\n",
       "        text-align: right;\n",
       "    }\n",
       "</style>\n",
       "<table border=\"1\" class=\"dataframe\">\n",
       "  <thead>\n",
       "    <tr style=\"text-align: right;\">\n",
       "      <th></th>\n",
       "      <th>Weight_Kg</th>\n",
       "      <th>Low_Price</th>\n",
       "      <th>High_Price</th>\n",
       "      <th>Sales_Total</th>\n",
       "      <th>Total_Qty_Sold</th>\n",
       "      <th>Total_Kg_Sold</th>\n",
       "      <th>Stock_On_Hand</th>\n",
       "      <th>avg_price_per_kg</th>\n",
       "    </tr>\n",
       "  </thead>\n",
       "  <tbody>\n",
       "    <tr>\n",
       "      <th>Weight_Kg</th>\n",
       "      <td>1.000000</td>\n",
       "      <td>0.832214</td>\n",
       "      <td>0.846184</td>\n",
       "      <td>0.007710</td>\n",
       "      <td>-0.055573</td>\n",
       "      <td>0.032639</td>\n",
       "      <td>-0.039879</td>\n",
       "      <td>-0.054991</td>\n",
       "    </tr>\n",
       "    <tr>\n",
       "      <th>Low_Price</th>\n",
       "      <td>0.832214</td>\n",
       "      <td>1.000000</td>\n",
       "      <td>0.962504</td>\n",
       "      <td>-0.006438</td>\n",
       "      <td>-0.093333</td>\n",
       "      <td>-0.031281</td>\n",
       "      <td>-0.062260</td>\n",
       "      <td>0.124585</td>\n",
       "    </tr>\n",
       "    <tr>\n",
       "      <th>High_Price</th>\n",
       "      <td>0.846184</td>\n",
       "      <td>0.962504</td>\n",
       "      <td>1.000000</td>\n",
       "      <td>0.029433</td>\n",
       "      <td>-0.082580</td>\n",
       "      <td>-0.000889</td>\n",
       "      <td>-0.046742</td>\n",
       "      <td>0.123440</td>\n",
       "    </tr>\n",
       "    <tr>\n",
       "      <th>Sales_Total</th>\n",
       "      <td>0.007710</td>\n",
       "      <td>-0.006438</td>\n",
       "      <td>0.029433</td>\n",
       "      <td>1.000000</td>\n",
       "      <td>0.750116</td>\n",
       "      <td>0.920337</td>\n",
       "      <td>0.265030</td>\n",
       "      <td>-0.000303</td>\n",
       "    </tr>\n",
       "    <tr>\n",
       "      <th>Total_Qty_Sold</th>\n",
       "      <td>-0.055573</td>\n",
       "      <td>-0.093333</td>\n",
       "      <td>-0.082580</td>\n",
       "      <td>0.750116</td>\n",
       "      <td>1.000000</td>\n",
       "      <td>0.735714</td>\n",
       "      <td>0.347718</td>\n",
       "      <td>-0.037589</td>\n",
       "    </tr>\n",
       "    <tr>\n",
       "      <th>Total_Kg_Sold</th>\n",
       "      <td>0.032639</td>\n",
       "      <td>-0.031281</td>\n",
       "      <td>-0.000889</td>\n",
       "      <td>0.920337</td>\n",
       "      <td>0.735714</td>\n",
       "      <td>1.000000</td>\n",
       "      <td>0.236541</td>\n",
       "      <td>-0.077350</td>\n",
       "    </tr>\n",
       "    <tr>\n",
       "      <th>Stock_On_Hand</th>\n",
       "      <td>-0.039879</td>\n",
       "      <td>-0.062260</td>\n",
       "      <td>-0.046742</td>\n",
       "      <td>0.265030</td>\n",
       "      <td>0.347718</td>\n",
       "      <td>0.236541</td>\n",
       "      <td>1.000000</td>\n",
       "      <td>-0.025811</td>\n",
       "    </tr>\n",
       "    <tr>\n",
       "      <th>avg_price_per_kg</th>\n",
       "      <td>-0.054991</td>\n",
       "      <td>0.124585</td>\n",
       "      <td>0.123440</td>\n",
       "      <td>-0.000303</td>\n",
       "      <td>-0.037589</td>\n",
       "      <td>-0.077350</td>\n",
       "      <td>-0.025811</td>\n",
       "      <td>1.000000</td>\n",
       "    </tr>\n",
       "  </tbody>\n",
       "</table>\n",
       "</div>"
      ],
      "text/plain": [
       "                  Weight_Kg  Low_Price  High_Price  Sales_Total  \\\n",
       "Weight_Kg          1.000000   0.832214    0.846184     0.007710   \n",
       "Low_Price          0.832214   1.000000    0.962504    -0.006438   \n",
       "High_Price         0.846184   0.962504    1.000000     0.029433   \n",
       "Sales_Total        0.007710  -0.006438    0.029433     1.000000   \n",
       "Total_Qty_Sold    -0.055573  -0.093333   -0.082580     0.750116   \n",
       "Total_Kg_Sold      0.032639  -0.031281   -0.000889     0.920337   \n",
       "Stock_On_Hand     -0.039879  -0.062260   -0.046742     0.265030   \n",
       "avg_price_per_kg  -0.054991   0.124585    0.123440    -0.000303   \n",
       "\n",
       "                  Total_Qty_Sold  Total_Kg_Sold  Stock_On_Hand  \\\n",
       "Weight_Kg              -0.055573       0.032639      -0.039879   \n",
       "Low_Price              -0.093333      -0.031281      -0.062260   \n",
       "High_Price             -0.082580      -0.000889      -0.046742   \n",
       "Sales_Total             0.750116       0.920337       0.265030   \n",
       "Total_Qty_Sold          1.000000       0.735714       0.347718   \n",
       "Total_Kg_Sold           0.735714       1.000000       0.236541   \n",
       "Stock_On_Hand           0.347718       0.236541       1.000000   \n",
       "avg_price_per_kg       -0.037589      -0.077350      -0.025811   \n",
       "\n",
       "                  avg_price_per_kg  \n",
       "Weight_Kg                -0.054991  \n",
       "Low_Price                 0.124585  \n",
       "High_Price                0.123440  \n",
       "Sales_Total              -0.000303  \n",
       "Total_Qty_Sold           -0.037589  \n",
       "Total_Kg_Sold            -0.077350  \n",
       "Stock_On_Hand            -0.025811  \n",
       "avg_price_per_kg          1.000000  "
      ]
     },
     "execution_count": 9,
     "metadata": {},
     "output_type": "execute_result"
    }
   ],
   "source": [
    "# Check for correlations between variables using the standard correlation coeffecient Pearson's r\n",
    "df_train.corr()"
   ]
  },
  {
   "cell_type": "code",
   "execution_count": 10,
   "id": "minus-workstation",
   "metadata": {},
   "outputs": [
    {
     "data": {
      "image/png": "[encoded data removed]",
      "text/plain": [
       "<Figure size 432x288 with 2 Axes>"
      ]
     },
     "metadata": {
      "needs_background": "light"
     },
     "output_type": "display_data"
    }
   ],
   "source": [
    "# Representing a graphical relationship between features using a heatmap\n",
    "heatmap = sns.heatmap(df_train.corr(), vmin=-1, vmax=1, annot=True)\n",
    "heatmap.set_title('Correlation Heatmap', fontdict={'fontsize':12}, pad=12);"
   ]
  },
  {
   "cell_type": "code",
   "execution_count": 11,
   "id": "central-rider",
   "metadata": {},
   "outputs": [
    {
     "data": {
      "text/plain": [
       "avg_price_per_kg    1.000000\n",
       "Low_Price           0.124585\n",
       "High_Price          0.123440\n",
       "Sales_Total        -0.000303\n",
       "Stock_On_Hand      -0.025811\n",
       "Total_Qty_Sold     -0.037589\n",
       "Weight_Kg          -0.054991\n",
       "Total_Kg_Sold      -0.077350\n",
       "Name: avg_price_per_kg, dtype: float64"
      ]
     },
     "execution_count": 11,
     "metadata": {},
     "output_type": "execute_result"
    }
   ],
   "source": [
    "# Check how much each value correlates with the avg_price_per_kg\n",
    "# using the standard correlation coefficient i.e Pearson's r \n",
    "corr_matrix = df_train.corr()\n",
    "corr_matrix['avg_price_per_kg'].sort_values(ascending = False)"
   ]
  },
  {
   "cell_type": "markdown",
   "id": "indoor-appointment",
   "metadata": {},
   "source": [
    "Using the standard correlation (Pearson's r) we observe that : \n",
    "- there is a weak **positive correlation** between **Low_Price** and   **avg_price_per_kg** as well as **High_Price** and **avg_price_per_kg.** \n",
    "- there is a **weak negative correlation** between the **Sales_Total** and **avg_price_per_kg**"
   ]
  },
  {
   "cell_type": "markdown",
   "id": "answering-macintosh",
   "metadata": {},
   "source": [
    "## Data cleaning / preparation"
   ]
  },
  {
   "cell_type": "markdown",
   "id": "verbal-manor",
   "metadata": {},
   "source": [
    "#### Functions to clean data"
   ]
  },
  {
   "cell_type": "code",
   "execution_count": 12,
   "id": "tired-laugh",
   "metadata": {},
   "outputs": [],
   "source": [
    "def count_inf_values(df,column_name):\n",
    "    ''' Takes in a data frame and a column name as input.\n",
    "        Returns the number of inf values in the column'''\n",
    "    \n",
    "    count_inf = np.isinf(df[column_name]).values.sum() # count number of inf values\n",
    "    \n",
    "    return count_inf"
   ]
  },
  {
   "cell_type": "code",
   "execution_count": 13,
   "id": "parallel-northeast",
   "metadata": {},
   "outputs": [],
   "source": [
    "def replace_inf_values(df,column_name):\n",
    "    \n",
    "    ''' This function takes in a data frame and a column name as input.\n",
    "    It replaces infinity values in the specified column with the median\n",
    "    of that column. Returns the modified dataframe. '''\n",
    "\n",
    "    median = df_train[column_name].median()\n",
    "    #replace inf values with the median\n",
    "    df[column_name] = df[column_name].replace([np.inf,-np.inf],median)\n",
    "    \n",
    "    return df"
   ]
  },
  {
   "cell_type": "code",
   "execution_count": 14,
   "id": "young-morrison",
   "metadata": {},
   "outputs": [],
   "source": [
    "def split_date(df, date = 'Date'):\n",
    "    \n",
    "    ''' Takes in a data frame. Splits the Date column into integer values of Year,\n",
    "        Month and Day. Returns modified dataframe with the Year,Month and Day\n",
    "        columns added and the original Date column removed'''\n",
    "        \n",
    "    date_split = df[date].str.split('-')\n",
    "    year = []\n",
    "    month = []\n",
    "    day = []\n",
    "    #build the year, month, day lists\n",
    "    for i in range(len(date_split)):\n",
    "        year.append(int(date_split[i][0]))\n",
    "        month.append(int(date_split[i][1]))\n",
    "        day.append(int(date_split[i][2]))\n",
    "            \n",
    "    #create a new columns (year,month,day) in the dataframe\n",
    "    df['Year'] = year\n",
    "    df['Month'] = month\n",
    "    df['Day'] = day\n",
    "\n",
    "    #drop the date column\n",
    "    df = df.drop([date],axis=1)\n",
    "        \n",
    "    return df\n"
   ]
  },
  {
   "cell_type": "markdown",
   "id": "developing-istanbul",
   "metadata": {},
   "source": [
    "#### Cleaning the train set"
   ]
  },
  {
   "cell_type": "markdown",
   "id": "loose-drink",
   "metadata": {},
   "source": [
    "##### Data cleaning with the Date column transformed to integer values of Year, Month, Day"
   ]
  },
  {
   "cell_type": "code",
   "execution_count": 15,
   "id": "square-deployment",
   "metadata": {},
   "outputs": [
    {
     "data": {
      "text/plain": [
       "8"
      ]
     },
     "execution_count": 15,
     "metadata": {},
     "output_type": "execute_result"
    }
   ],
   "source": [
    "# count the number of infinity values in the train set\n",
    "count_inf = count_inf_values(df_train,'avg_price_per_kg')\n",
    "count_inf"
   ]
  },
  {
   "cell_type": "markdown",
   "id": "conceptual-street",
   "metadata": {},
   "source": [
    "As can be seen from the above, the column **avg_price_per_kg** contains **8 infinity values.** We shall replace infinity values with the **median.**"
   ]
  },
  {
   "cell_type": "code",
   "execution_count": 16,
   "id": "another-jordan",
   "metadata": {},
   "outputs": [],
   "source": [
    "# Replace inf values with the median\n",
    "df_train = replace_inf_values(df_train,'avg_price_per_kg')"
   ]
  },
  {
   "cell_type": "code",
   "execution_count": 17,
   "id": "premier-preview",
   "metadata": {},
   "outputs": [],
   "source": [
    "# Transform the date column\n",
    "df_train_c = df_train.copy() #create a copy of the train dataframe\n",
    "df_train_c = split_date(df_train_c)"
   ]
  },
  {
   "cell_type": "code",
   "execution_count": 18,
   "id": "modular-frederick",
   "metadata": {},
   "outputs": [],
   "source": [
    "# Filter the data by Apple Golden Delicious\n",
    "df_train_c = df_train_c[df_train_c['Commodities'] == 'APPLE GOLDEN DELICIOUS']"
   ]
  },
  {
   "cell_type": "markdown",
   "id": "separated-expression",
   "metadata": {},
   "source": [
    "#### Cleaning the test set"
   ]
  },
  {
   "cell_type": "markdown",
   "id": "christian-likelihood",
   "metadata": {},
   "source": [
    "##### Data cleaning with the Date column transformed to integer values of Year, Month, Day"
   ]
  },
  {
   "cell_type": "code",
   "execution_count": 19,
   "id": "south-chicken",
   "metadata": {},
   "outputs": [],
   "source": [
    "df_test_c = df_test.copy()\n",
    "df_test_c = split_date(df_test_c)"
   ]
  },
  {
   "cell_type": "code",
   "execution_count": 20,
   "id": "fantastic-rochester",
   "metadata": {},
   "outputs": [],
   "source": [
    "df_test_c = df_test_c[df_test_c['Commodities'] == 'APPLE GOLDEN DELICIOUS']"
   ]
  },
  {
   "cell_type": "markdown",
   "id": "utility-accessory",
   "metadata": {},
   "source": [
    "## Feature Selection"
   ]
  },
  {
   "cell_type": "markdown",
   "id": "functioning-drink",
   "metadata": {},
   "source": [
    "#### Feature selection with Date column not transformed "
   ]
  },
  {
   "cell_type": "code",
   "execution_count": 21,
   "id": "other-albany",
   "metadata": {},
   "outputs": [
    {
     "data": {
      "text/html": [
       "<div>\n",
       "<style scoped>\n",
       "    .dataframe tbody tr th:only-of-type {\n",
       "        vertical-align: middle;\n",
       "    }\n",
       "\n",
       "    .dataframe tbody tr th {\n",
       "        vertical-align: top;\n",
       "    }\n",
       "\n",
       "    .dataframe thead th {\n",
       "        text-align: right;\n",
       "    }\n",
       "</style>\n",
       "<table border=\"1\" class=\"dataframe\">\n",
       "  <thead>\n",
       "    <tr style=\"text-align: right;\">\n",
       "      <th></th>\n",
       "      <th>Province</th>\n",
       "      <th>Container</th>\n",
       "      <th>Size_Grade</th>\n",
       "      <th>Weight_Kg</th>\n",
       "      <th>Date</th>\n",
       "      <th>Low_Price</th>\n",
       "      <th>High_Price</th>\n",
       "      <th>Sales_Total</th>\n",
       "      <th>Total_Qty_Sold</th>\n",
       "      <th>Total_Kg_Sold</th>\n",
       "      <th>Stock_On_Hand</th>\n",
       "      <th>avg_price_per_kg</th>\n",
       "    </tr>\n",
       "  </thead>\n",
       "  <tbody>\n",
       "    <tr>\n",
       "      <th>1</th>\n",
       "      <td>CAPE</td>\n",
       "      <td>M4183</td>\n",
       "      <td>1L</td>\n",
       "      <td>18.3</td>\n",
       "      <td>2020-09-09</td>\n",
       "      <td>150.0</td>\n",
       "      <td>170.0</td>\n",
       "      <td>51710.0</td>\n",
       "      <td>332</td>\n",
       "      <td>6075.6</td>\n",
       "      <td>822</td>\n",
       "      <td>8.51</td>\n",
       "    </tr>\n",
       "    <tr>\n",
       "      <th>7</th>\n",
       "      <td>CAPE</td>\n",
       "      <td>JG110</td>\n",
       "      <td>2M</td>\n",
       "      <td>11.0</td>\n",
       "      <td>2020-04-14</td>\n",
       "      <td>50.0</td>\n",
       "      <td>50.0</td>\n",
       "      <td>16000.0</td>\n",
       "      <td>320</td>\n",
       "      <td>3520.0</td>\n",
       "      <td>0</td>\n",
       "      <td>4.55</td>\n",
       "    </tr>\n",
       "    <tr>\n",
       "      <th>24</th>\n",
       "      <td>W.CAPE-BERGRIVER ETC</td>\n",
       "      <td>JE090</td>\n",
       "      <td>2S</td>\n",
       "      <td>9.0</td>\n",
       "      <td>2020-04-16</td>\n",
       "      <td>55.0</td>\n",
       "      <td>55.0</td>\n",
       "      <td>990.0</td>\n",
       "      <td>18</td>\n",
       "      <td>162.0</td>\n",
       "      <td>1506</td>\n",
       "      <td>6.11</td>\n",
       "    </tr>\n",
       "    <tr>\n",
       "      <th>40</th>\n",
       "      <td>CAPE</td>\n",
       "      <td>M4183</td>\n",
       "      <td>1S</td>\n",
       "      <td>18.3</td>\n",
       "      <td>2020-05-04</td>\n",
       "      <td>80.0</td>\n",
       "      <td>120.0</td>\n",
       "      <td>32020.0</td>\n",
       "      <td>388</td>\n",
       "      <td>7100.4</td>\n",
       "      <td>443</td>\n",
       "      <td>4.51</td>\n",
       "    </tr>\n",
       "    <tr>\n",
       "      <th>69</th>\n",
       "      <td>EASTERN CAPE</td>\n",
       "      <td>IA400</td>\n",
       "      <td>1S</td>\n",
       "      <td>400.0</td>\n",
       "      <td>2020-09-28</td>\n",
       "      <td>1800.0</td>\n",
       "      <td>1800.0</td>\n",
       "      <td>1800.0</td>\n",
       "      <td>1</td>\n",
       "      <td>400.0</td>\n",
       "      <td>2</td>\n",
       "      <td>4.50</td>\n",
       "    </tr>\n",
       "  </tbody>\n",
       "</table>\n",
       "</div>"
      ],
      "text/plain": [
       "                Province Container Size_Grade  Weight_Kg        Date  \\\n",
       "1                   CAPE     M4183         1L       18.3  2020-09-09   \n",
       "7                   CAPE     JG110         2M       11.0  2020-04-14   \n",
       "24  W.CAPE-BERGRIVER ETC     JE090         2S        9.0  2020-04-16   \n",
       "40                  CAPE     M4183         1S       18.3  2020-05-04   \n",
       "69          EASTERN CAPE     IA400         1S      400.0  2020-09-28   \n",
       "\n",
       "    Low_Price  High_Price  Sales_Total  Total_Qty_Sold  Total_Kg_Sold  \\\n",
       "1       150.0       170.0      51710.0             332         6075.6   \n",
       "7        50.0        50.0      16000.0             320         3520.0   \n",
       "24       55.0        55.0        990.0              18          162.0   \n",
       "40       80.0       120.0      32020.0             388         7100.4   \n",
       "69     1800.0      1800.0       1800.0               1          400.0   \n",
       "\n",
       "    Stock_On_Hand  avg_price_per_kg  \n",
       "1             822              8.51  \n",
       "7               0              4.55  \n",
       "24           1506              6.11  \n",
       "40            443              4.51  \n",
       "69              2              4.50  "
      ]
     },
     "execution_count": 21,
     "metadata": {},
     "output_type": "execute_result"
    }
   ],
   "source": [
    "# filtering for all columns\n",
    "df_train_all = df_train.copy()\n",
    "df_train_all = df_train_all[df_train_all['Commodities'] == 'APPLE GOLDEN DELICIOUS']\n",
    "df_train_all = df_train_all.drop(['Commodities'],axis=1)\n",
    "df_train_all.head()"
   ]
  },
  {
   "cell_type": "code",
   "execution_count": 22,
   "id": "speaking-drill",
   "metadata": {},
   "outputs": [
    {
     "data": {
      "text/html": [
       "<div>\n",
       "<style scoped>\n",
       "    .dataframe tbody tr th:only-of-type {\n",
       "        vertical-align: middle;\n",
       "    }\n",
       "\n",
       "    .dataframe tbody tr th {\n",
       "        vertical-align: top;\n",
       "    }\n",
       "\n",
       "    .dataframe thead th {\n",
       "        text-align: right;\n",
       "    }\n",
       "</style>\n",
       "<table border=\"1\" class=\"dataframe\">\n",
       "  <thead>\n",
       "    <tr style=\"text-align: right;\">\n",
       "      <th></th>\n",
       "      <th>Weight_Kg</th>\n",
       "      <th>Low_Price</th>\n",
       "      <th>High_Price</th>\n",
       "      <th>Sales_Total</th>\n",
       "      <th>Total_Qty_Sold</th>\n",
       "      <th>Total_Kg_Sold</th>\n",
       "      <th>Stock_On_Hand</th>\n",
       "      <th>Province_CAPE</th>\n",
       "      <th>Province_EASTERN CAPE</th>\n",
       "      <th>Province_NATAL</th>\n",
       "      <th>...</th>\n",
       "      <th>Date_2020-09-09</th>\n",
       "      <th>Date_2020-09-16</th>\n",
       "      <th>Date_2020-09-17</th>\n",
       "      <th>Date_2020-09-19</th>\n",
       "      <th>Date_2020-09-21</th>\n",
       "      <th>Date_2020-09-23</th>\n",
       "      <th>Date_2020-09-28</th>\n",
       "      <th>Date_2020-10-01</th>\n",
       "      <th>Date_2020-10-03</th>\n",
       "      <th>avg_price_per_kg</th>\n",
       "    </tr>\n",
       "  </thead>\n",
       "  <tbody>\n",
       "    <tr>\n",
       "      <th>1</th>\n",
       "      <td>18.3</td>\n",
       "      <td>150.0</td>\n",
       "      <td>170.0</td>\n",
       "      <td>51710.0</td>\n",
       "      <td>332</td>\n",
       "      <td>6075.6</td>\n",
       "      <td>822</td>\n",
       "      <td>1</td>\n",
       "      <td>0</td>\n",
       "      <td>0</td>\n",
       "      <td>...</td>\n",
       "      <td>1</td>\n",
       "      <td>0</td>\n",
       "      <td>0</td>\n",
       "      <td>0</td>\n",
       "      <td>0</td>\n",
       "      <td>0</td>\n",
       "      <td>0</td>\n",
       "      <td>0</td>\n",
       "      <td>0</td>\n",
       "      <td>8.51</td>\n",
       "    </tr>\n",
       "    <tr>\n",
       "      <th>7</th>\n",
       "      <td>11.0</td>\n",
       "      <td>50.0</td>\n",
       "      <td>50.0</td>\n",
       "      <td>16000.0</td>\n",
       "      <td>320</td>\n",
       "      <td>3520.0</td>\n",
       "      <td>0</td>\n",
       "      <td>1</td>\n",
       "      <td>0</td>\n",
       "      <td>0</td>\n",
       "      <td>...</td>\n",
       "      <td>0</td>\n",
       "      <td>0</td>\n",
       "      <td>0</td>\n",
       "      <td>0</td>\n",
       "      <td>0</td>\n",
       "      <td>0</td>\n",
       "      <td>0</td>\n",
       "      <td>0</td>\n",
       "      <td>0</td>\n",
       "      <td>4.55</td>\n",
       "    </tr>\n",
       "    <tr>\n",
       "      <th>24</th>\n",
       "      <td>9.0</td>\n",
       "      <td>55.0</td>\n",
       "      <td>55.0</td>\n",
       "      <td>990.0</td>\n",
       "      <td>18</td>\n",
       "      <td>162.0</td>\n",
       "      <td>1506</td>\n",
       "      <td>0</td>\n",
       "      <td>0</td>\n",
       "      <td>0</td>\n",
       "      <td>...</td>\n",
       "      <td>0</td>\n",
       "      <td>0</td>\n",
       "      <td>0</td>\n",
       "      <td>0</td>\n",
       "      <td>0</td>\n",
       "      <td>0</td>\n",
       "      <td>0</td>\n",
       "      <td>0</td>\n",
       "      <td>0</td>\n",
       "      <td>6.11</td>\n",
       "    </tr>\n",
       "    <tr>\n",
       "      <th>40</th>\n",
       "      <td>18.3</td>\n",
       "      <td>80.0</td>\n",
       "      <td>120.0</td>\n",
       "      <td>32020.0</td>\n",
       "      <td>388</td>\n",
       "      <td>7100.4</td>\n",
       "      <td>443</td>\n",
       "      <td>1</td>\n",
       "      <td>0</td>\n",
       "      <td>0</td>\n",
       "      <td>...</td>\n",
       "      <td>0</td>\n",
       "      <td>0</td>\n",
       "      <td>0</td>\n",
       "      <td>0</td>\n",
       "      <td>0</td>\n",
       "      <td>0</td>\n",
       "      <td>0</td>\n",
       "      <td>0</td>\n",
       "      <td>0</td>\n",
       "      <td>4.51</td>\n",
       "    </tr>\n",
       "    <tr>\n",
       "      <th>69</th>\n",
       "      <td>400.0</td>\n",
       "      <td>1800.0</td>\n",
       "      <td>1800.0</td>\n",
       "      <td>1800.0</td>\n",
       "      <td>1</td>\n",
       "      <td>400.0</td>\n",
       "      <td>2</td>\n",
       "      <td>0</td>\n",
       "      <td>1</td>\n",
       "      <td>0</td>\n",
       "      <td>...</td>\n",
       "      <td>0</td>\n",
       "      <td>0</td>\n",
       "      <td>0</td>\n",
       "      <td>0</td>\n",
       "      <td>0</td>\n",
       "      <td>0</td>\n",
       "      <td>1</td>\n",
       "      <td>0</td>\n",
       "      <td>0</td>\n",
       "      <td>4.50</td>\n",
       "    </tr>\n",
       "  </tbody>\n",
       "</table>\n",
       "<p>5 rows × 183 columns</p>\n",
       "</div>"
      ],
      "text/plain": [
       "    Weight_Kg  Low_Price  High_Price  Sales_Total  Total_Qty_Sold  \\\n",
       "1        18.3      150.0       170.0      51710.0             332   \n",
       "7        11.0       50.0        50.0      16000.0             320   \n",
       "24        9.0       55.0        55.0        990.0              18   \n",
       "40       18.3       80.0       120.0      32020.0             388   \n",
       "69      400.0     1800.0      1800.0       1800.0               1   \n",
       "\n",
       "    Total_Kg_Sold  Stock_On_Hand  Province_CAPE  Province_EASTERN CAPE  \\\n",
       "1          6075.6            822              1                      0   \n",
       "7          3520.0              0              1                      0   \n",
       "24          162.0           1506              0                      0   \n",
       "40         7100.4            443              1                      0   \n",
       "69          400.0              2              0                      1   \n",
       "\n",
       "    Province_NATAL  ...  Date_2020-09-09  Date_2020-09-16  Date_2020-09-17  \\\n",
       "1                0  ...                1                0                0   \n",
       "7                0  ...                0                0                0   \n",
       "24               0  ...                0                0                0   \n",
       "40               0  ...                0                0                0   \n",
       "69               0  ...                0                0                0   \n",
       "\n",
       "    Date_2020-09-19  Date_2020-09-21  Date_2020-09-23  Date_2020-09-28  \\\n",
       "1                 0                0                0                0   \n",
       "7                 0                0                0                0   \n",
       "24                0                0                0                0   \n",
       "40                0                0                0                0   \n",
       "69                0                0                0                1   \n",
       "\n",
       "    Date_2020-10-01  Date_2020-10-03  avg_price_per_kg  \n",
       "1                 0                0              8.51  \n",
       "7                 0                0              4.55  \n",
       "24                0                0              6.11  \n",
       "40                0                0              4.51  \n",
       "69                0                0              4.50  \n",
       "\n",
       "[5 rows x 183 columns]"
      ]
     },
     "execution_count": 22,
     "metadata": {},
     "output_type": "execute_result"
    }
   ],
   "source": [
    "# Dummy variable encoding\n",
    "df_train_dummies_all = pd.get_dummies(df_train_all)\n",
    "\n",
    "#place dependent variable to last column\n",
    "column_names = [col for col in df_train_dummies_all.columns if col != 'avg_price_per_kg'] + ['avg_price_per_kg']\n",
    "\n",
    "df_train_dummies_all = df_train_dummies_all.reindex(columns = column_names)\n",
    "df_train_dummies_all.head()"
   ]
  },
  {
   "cell_type": "markdown",
   "id": "willing-manchester",
   "metadata": {},
   "source": [
    "##### Scaling and removing outliers with Date column not transformed"
   ]
  },
  {
   "cell_type": "code",
   "execution_count": 23,
   "id": "lovely-california",
   "metadata": {},
   "outputs": [],
   "source": [
    "x_scale = df_train_dummies_all.drop('avg_price_per_kg', axis=1)\n",
    "y_scale = df_train_dummies_all['avg_price_per_kg']"
   ]
  },
  {
   "cell_type": "code",
   "execution_count": 24,
   "id": "advised-natural",
   "metadata": {},
   "outputs": [],
   "source": [
    "# create scaler object\n",
    "scaler = StandardScaler()"
   ]
  },
  {
   "cell_type": "code",
   "execution_count": 25,
   "id": "dominican-auditor",
   "metadata": {},
   "outputs": [],
   "source": [
    "# create scaled version of the predictors (there is no need to scale the response)\n",
    "X_train_scaled = scaler.fit_transform(x_scale)"
   ]
  },
  {
   "cell_type": "code",
   "execution_count": 26,
   "id": "dutch-killer",
   "metadata": {},
   "outputs": [
    {
     "data": {
      "text/html": [
       "<div>\n",
       "<style scoped>\n",
       "    .dataframe tbody tr th:only-of-type {\n",
       "        vertical-align: middle;\n",
       "    }\n",
       "\n",
       "    .dataframe tbody tr th {\n",
       "        vertical-align: top;\n",
       "    }\n",
       "\n",
       "    .dataframe thead th {\n",
       "        text-align: right;\n",
       "    }\n",
       "</style>\n",
       "<table border=\"1\" class=\"dataframe\">\n",
       "  <thead>\n",
       "    <tr style=\"text-align: right;\">\n",
       "      <th></th>\n",
       "      <th>Weight_Kg</th>\n",
       "      <th>Low_Price</th>\n",
       "      <th>High_Price</th>\n",
       "      <th>Sales_Total</th>\n",
       "      <th>Total_Qty_Sold</th>\n",
       "      <th>Total_Kg_Sold</th>\n",
       "      <th>Stock_On_Hand</th>\n",
       "      <th>Province_CAPE</th>\n",
       "      <th>Province_EASTERN CAPE</th>\n",
       "      <th>Province_NATAL</th>\n",
       "      <th>...</th>\n",
       "      <th>Date_2020-09-07</th>\n",
       "      <th>Date_2020-09-09</th>\n",
       "      <th>Date_2020-09-16</th>\n",
       "      <th>Date_2020-09-17</th>\n",
       "      <th>Date_2020-09-19</th>\n",
       "      <th>Date_2020-09-21</th>\n",
       "      <th>Date_2020-09-23</th>\n",
       "      <th>Date_2020-09-28</th>\n",
       "      <th>Date_2020-10-01</th>\n",
       "      <th>Date_2020-10-03</th>\n",
       "    </tr>\n",
       "  </thead>\n",
       "  <tbody>\n",
       "    <tr>\n",
       "      <th>0</th>\n",
       "      <td>-0.222433</td>\n",
       "      <td>-0.065087</td>\n",
       "      <td>-0.105317</td>\n",
       "      <td>0.811807</td>\n",
       "      <td>0.510117</td>\n",
       "      <td>0.511073</td>\n",
       "      <td>0.571070</td>\n",
       "      <td>0.931634</td>\n",
       "      <td>-0.343488</td>\n",
       "      <td>-0.245547</td>\n",
       "      <td>...</td>\n",
       "      <td>-0.081881</td>\n",
       "      <td>11.765567</td>\n",
       "      <td>-0.075281</td>\n",
       "      <td>-0.078648</td>\n",
       "      <td>-0.06415</td>\n",
       "      <td>-0.088</td>\n",
       "      <td>-0.099143</td>\n",
       "      <td>-0.084994</td>\n",
       "      <td>-0.099143</td>\n",
       "      <td>-0.075281</td>\n",
       "    </tr>\n",
       "    <tr>\n",
       "      <th>1</th>\n",
       "      <td>-0.295704</td>\n",
       "      <td>-0.332855</td>\n",
       "      <td>-0.382175</td>\n",
       "      <td>-0.103950</td>\n",
       "      <td>0.471248</td>\n",
       "      <td>0.091837</td>\n",
       "      <td>-0.563874</td>\n",
       "      <td>0.931634</td>\n",
       "      <td>-0.343488</td>\n",
       "      <td>-0.245547</td>\n",
       "      <td>...</td>\n",
       "      <td>-0.081881</td>\n",
       "      <td>-0.084994</td>\n",
       "      <td>-0.075281</td>\n",
       "      <td>-0.078648</td>\n",
       "      <td>-0.06415</td>\n",
       "      <td>-0.088</td>\n",
       "      <td>-0.099143</td>\n",
       "      <td>-0.084994</td>\n",
       "      <td>-0.099143</td>\n",
       "      <td>-0.075281</td>\n",
       "    </tr>\n",
       "    <tr>\n",
       "      <th>2</th>\n",
       "      <td>-0.315779</td>\n",
       "      <td>-0.319467</td>\n",
       "      <td>-0.370639</td>\n",
       "      <td>-0.488870</td>\n",
       "      <td>-0.506948</td>\n",
       "      <td>-0.459029</td>\n",
       "      <td>1.515476</td>\n",
       "      <td>-1.073382</td>\n",
       "      <td>-0.343488</td>\n",
       "      <td>-0.245547</td>\n",
       "      <td>...</td>\n",
       "      <td>-0.081881</td>\n",
       "      <td>-0.084994</td>\n",
       "      <td>-0.075281</td>\n",
       "      <td>-0.078648</td>\n",
       "      <td>-0.06415</td>\n",
       "      <td>-0.088</td>\n",
       "      <td>-0.099143</td>\n",
       "      <td>-0.084994</td>\n",
       "      <td>-0.099143</td>\n",
       "      <td>-0.075281</td>\n",
       "    </tr>\n",
       "    <tr>\n",
       "      <th>3</th>\n",
       "      <td>-0.222433</td>\n",
       "      <td>-0.252525</td>\n",
       "      <td>-0.220674</td>\n",
       "      <td>0.306871</td>\n",
       "      <td>0.691504</td>\n",
       "      <td>0.679187</td>\n",
       "      <td>0.047781</td>\n",
       "      <td>0.931634</td>\n",
       "      <td>-0.343488</td>\n",
       "      <td>-0.245547</td>\n",
       "      <td>...</td>\n",
       "      <td>-0.081881</td>\n",
       "      <td>-0.084994</td>\n",
       "      <td>-0.075281</td>\n",
       "      <td>-0.078648</td>\n",
       "      <td>-0.06415</td>\n",
       "      <td>-0.088</td>\n",
       "      <td>-0.099143</td>\n",
       "      <td>-0.084994</td>\n",
       "      <td>-0.099143</td>\n",
       "      <td>-0.075281</td>\n",
       "    </tr>\n",
       "    <tr>\n",
       "      <th>4</th>\n",
       "      <td>3.608756</td>\n",
       "      <td>4.353082</td>\n",
       "      <td>3.655338</td>\n",
       "      <td>-0.468098</td>\n",
       "      <td>-0.562012</td>\n",
       "      <td>-0.419986</td>\n",
       "      <td>-0.561112</td>\n",
       "      <td>-1.073382</td>\n",
       "      <td>2.911310</td>\n",
       "      <td>-0.245547</td>\n",
       "      <td>...</td>\n",
       "      <td>-0.081881</td>\n",
       "      <td>-0.084994</td>\n",
       "      <td>-0.075281</td>\n",
       "      <td>-0.078648</td>\n",
       "      <td>-0.06415</td>\n",
       "      <td>-0.088</td>\n",
       "      <td>-0.099143</td>\n",
       "      <td>11.765567</td>\n",
       "      <td>-0.099143</td>\n",
       "      <td>-0.075281</td>\n",
       "    </tr>\n",
       "  </tbody>\n",
       "</table>\n",
       "<p>5 rows × 182 columns</p>\n",
       "</div>"
      ],
      "text/plain": [
       "   Weight_Kg  Low_Price  High_Price  Sales_Total  Total_Qty_Sold  \\\n",
       "0  -0.222433  -0.065087   -0.105317     0.811807        0.510117   \n",
       "1  -0.295704  -0.332855   -0.382175    -0.103950        0.471248   \n",
       "2  -0.315779  -0.319467   -0.370639    -0.488870       -0.506948   \n",
       "3  -0.222433  -0.252525   -0.220674     0.306871        0.691504   \n",
       "4   3.608756   4.353082    3.655338    -0.468098       -0.562012   \n",
       "\n",
       "   Total_Kg_Sold  Stock_On_Hand  Province_CAPE  Province_EASTERN CAPE  \\\n",
       "0       0.511073       0.571070       0.931634              -0.343488   \n",
       "1       0.091837      -0.563874       0.931634              -0.343488   \n",
       "2      -0.459029       1.515476      -1.073382              -0.343488   \n",
       "3       0.679187       0.047781       0.931634              -0.343488   \n",
       "4      -0.419986      -0.561112      -1.073382               2.911310   \n",
       "\n",
       "   Province_NATAL  ...  Date_2020-09-07  Date_2020-09-09  Date_2020-09-16  \\\n",
       "0       -0.245547  ...        -0.081881        11.765567        -0.075281   \n",
       "1       -0.245547  ...        -0.081881        -0.084994        -0.075281   \n",
       "2       -0.245547  ...        -0.081881        -0.084994        -0.075281   \n",
       "3       -0.245547  ...        -0.081881        -0.084994        -0.075281   \n",
       "4       -0.245547  ...        -0.081881        -0.084994        -0.075281   \n",
       "\n",
       "   Date_2020-09-17  Date_2020-09-19  Date_2020-09-21  Date_2020-09-23  \\\n",
       "0        -0.078648         -0.06415           -0.088        -0.099143   \n",
       "1        -0.078648         -0.06415           -0.088        -0.099143   \n",
       "2        -0.078648         -0.06415           -0.088        -0.099143   \n",
       "3        -0.078648         -0.06415           -0.088        -0.099143   \n",
       "4        -0.078648         -0.06415           -0.088        -0.099143   \n",
       "\n",
       "   Date_2020-09-28  Date_2020-10-01  Date_2020-10-03  \n",
       "0        -0.084994        -0.099143        -0.075281  \n",
       "1        -0.084994        -0.099143        -0.075281  \n",
       "2        -0.084994        -0.099143        -0.075281  \n",
       "3        -0.084994        -0.099143        -0.075281  \n",
       "4        11.765567        -0.099143        -0.075281  \n",
       "\n",
       "[5 rows x 182 columns]"
      ]
     },
     "execution_count": 26,
     "metadata": {},
     "output_type": "execute_result"
    }
   ],
   "source": [
    "# convert the scaled predictor values into a dataframe\n",
    "x_train_standardise = pd.DataFrame(X_train_scaled,columns=x_scale.columns)\n",
    "x_train_standardise.head()"
   ]
  },
  {
   "cell_type": "code",
   "execution_count": 27,
   "id": "substantial-davis",
   "metadata": {},
   "outputs": [
    {
     "data": {
      "image/png": "[encoded data removed]",
      "text/plain": [
       "<Figure size 432x288 with 1 Axes>"
      ]
     },
     "metadata": {
      "needs_background": "light"
     },
     "output_type": "display_data"
    }
   ],
   "source": [
    "# Visualizing the standardized data\n",
    "f = x_train_standardise[['Weight_Kg', 'Low_Price', 'High_Price', 'Sales_Total', 'Total_Kg_Sold', 'Total_Qty_Sold', 'Stock_On_Hand']] \n",
    "sns.boxplot(data=f, orient='h', palette='Set2');"
   ]
  },
  {
   "cell_type": "code",
   "execution_count": 28,
   "id": "indoor-equivalent",
   "metadata": {},
   "outputs": [
    {
     "data": {
      "text/plain": [
       "<AxesSubplot:>"
      ]
     },
     "execution_count": 28,
     "metadata": {},
     "output_type": "execute_result"
    },
    {
     "data": {
      "image/png": "[encoded data removed]",
      "text/plain": [
       "<Figure size 432x288 with 1 Axes>"
      ]
     },
     "metadata": {
      "needs_background": "light"
     },
     "output_type": "display_data"
    }
   ],
   "source": [
    "# Removing outliers\n",
    "df_out = x_train_standardise.copy()\n",
    "for col in df_out.columns:\n",
    "    if df_out[col].dtype == np.dtype('int64') or df_out[col].dtype == np.dtype('float64'):\n",
    "        df_out[col] = np.where(df_out[col] <df_out[col].quantile(0.05), np.quantile(df_out[col], 0.05),df_out[col])\n",
    "        df_out[col] = np.where(df_out[col] >df_out[col].quantile(0.90), np.quantile(df_out[col], 0.90),df_out[col])\n",
    "f1 = df_out[['Weight_Kg', 'Low_Price', 'High_Price', 'Sales_Total', 'Total_Kg_Sold', 'Total_Qty_Sold', 'Stock_On_Hand']] \n",
    "sns.boxplot(data=f1, orient='h', palette='Set2') "
   ]
  },
  {
   "cell_type": "markdown",
   "id": "cloudy-palestine",
   "metadata": {},
   "source": [
    "#### Feature selection with Date column transformed"
   ]
  },
  {
   "cell_type": "code",
   "execution_count": 29,
   "id": "indian-earthquake",
   "metadata": {},
   "outputs": [
    {
     "data": {
      "text/html": [
       "<div>\n",
       "<style scoped>\n",
       "    .dataframe tbody tr th:only-of-type {\n",
       "        vertical-align: middle;\n",
       "    }\n",
       "\n",
       "    .dataframe tbody tr th {\n",
       "        vertical-align: top;\n",
       "    }\n",
       "\n",
       "    .dataframe thead th {\n",
       "        text-align: right;\n",
       "    }\n",
       "</style>\n",
       "<table border=\"1\" class=\"dataframe\">\n",
       "  <thead>\n",
       "    <tr style=\"text-align: right;\">\n",
       "      <th></th>\n",
       "      <th>Weight_Kg</th>\n",
       "      <th>Low_Price</th>\n",
       "      <th>High_Price</th>\n",
       "      <th>Sales_Total</th>\n",
       "      <th>Total_Qty_Sold</th>\n",
       "      <th>Total_Kg_Sold</th>\n",
       "      <th>Stock_On_Hand</th>\n",
       "      <th>Year</th>\n",
       "      <th>Month</th>\n",
       "      <th>Day</th>\n",
       "      <th>...</th>\n",
       "      <th>Size_Grade_1M</th>\n",
       "      <th>Size_Grade_1S</th>\n",
       "      <th>Size_Grade_1U</th>\n",
       "      <th>Size_Grade_1X</th>\n",
       "      <th>Size_Grade_2L</th>\n",
       "      <th>Size_Grade_2M</th>\n",
       "      <th>Size_Grade_2S</th>\n",
       "      <th>Size_Grade_2U</th>\n",
       "      <th>Size_Grade_2X</th>\n",
       "      <th>avg_price_per_kg</th>\n",
       "    </tr>\n",
       "  </thead>\n",
       "  <tbody>\n",
       "    <tr>\n",
       "      <th>1</th>\n",
       "      <td>18.3</td>\n",
       "      <td>150.0</td>\n",
       "      <td>170.0</td>\n",
       "      <td>51710.0</td>\n",
       "      <td>332</td>\n",
       "      <td>6075.6</td>\n",
       "      <td>822</td>\n",
       "      <td>2020</td>\n",
       "      <td>9</td>\n",
       "      <td>9</td>\n",
       "      <td>...</td>\n",
       "      <td>0</td>\n",
       "      <td>0</td>\n",
       "      <td>0</td>\n",
       "      <td>0</td>\n",
       "      <td>0</td>\n",
       "      <td>0</td>\n",
       "      <td>0</td>\n",
       "      <td>0</td>\n",
       "      <td>0</td>\n",
       "      <td>8.51</td>\n",
       "    </tr>\n",
       "    <tr>\n",
       "      <th>7</th>\n",
       "      <td>11.0</td>\n",
       "      <td>50.0</td>\n",
       "      <td>50.0</td>\n",
       "      <td>16000.0</td>\n",
       "      <td>320</td>\n",
       "      <td>3520.0</td>\n",
       "      <td>0</td>\n",
       "      <td>2020</td>\n",
       "      <td>4</td>\n",
       "      <td>14</td>\n",
       "      <td>...</td>\n",
       "      <td>0</td>\n",
       "      <td>0</td>\n",
       "      <td>0</td>\n",
       "      <td>0</td>\n",
       "      <td>0</td>\n",
       "      <td>1</td>\n",
       "      <td>0</td>\n",
       "      <td>0</td>\n",
       "      <td>0</td>\n",
       "      <td>4.55</td>\n",
       "    </tr>\n",
       "    <tr>\n",
       "      <th>24</th>\n",
       "      <td>9.0</td>\n",
       "      <td>55.0</td>\n",
       "      <td>55.0</td>\n",
       "      <td>990.0</td>\n",
       "      <td>18</td>\n",
       "      <td>162.0</td>\n",
       "      <td>1506</td>\n",
       "      <td>2020</td>\n",
       "      <td>4</td>\n",
       "      <td>16</td>\n",
       "      <td>...</td>\n",
       "      <td>0</td>\n",
       "      <td>0</td>\n",
       "      <td>0</td>\n",
       "      <td>0</td>\n",
       "      <td>0</td>\n",
       "      <td>0</td>\n",
       "      <td>1</td>\n",
       "      <td>0</td>\n",
       "      <td>0</td>\n",
       "      <td>6.11</td>\n",
       "    </tr>\n",
       "    <tr>\n",
       "      <th>40</th>\n",
       "      <td>18.3</td>\n",
       "      <td>80.0</td>\n",
       "      <td>120.0</td>\n",
       "      <td>32020.0</td>\n",
       "      <td>388</td>\n",
       "      <td>7100.4</td>\n",
       "      <td>443</td>\n",
       "      <td>2020</td>\n",
       "      <td>5</td>\n",
       "      <td>4</td>\n",
       "      <td>...</td>\n",
       "      <td>0</td>\n",
       "      <td>1</td>\n",
       "      <td>0</td>\n",
       "      <td>0</td>\n",
       "      <td>0</td>\n",
       "      <td>0</td>\n",
       "      <td>0</td>\n",
       "      <td>0</td>\n",
       "      <td>0</td>\n",
       "      <td>4.51</td>\n",
       "    </tr>\n",
       "    <tr>\n",
       "      <th>69</th>\n",
       "      <td>400.0</td>\n",
       "      <td>1800.0</td>\n",
       "      <td>1800.0</td>\n",
       "      <td>1800.0</td>\n",
       "      <td>1</td>\n",
       "      <td>400.0</td>\n",
       "      <td>2</td>\n",
       "      <td>2020</td>\n",
       "      <td>9</td>\n",
       "      <td>28</td>\n",
       "      <td>...</td>\n",
       "      <td>0</td>\n",
       "      <td>1</td>\n",
       "      <td>0</td>\n",
       "      <td>0</td>\n",
       "      <td>0</td>\n",
       "      <td>0</td>\n",
       "      <td>0</td>\n",
       "      <td>0</td>\n",
       "      <td>0</td>\n",
       "      <td>4.50</td>\n",
       "    </tr>\n",
       "  </tbody>\n",
       "</table>\n",
       "<p>5 rows × 36 columns</p>\n",
       "</div>"
      ],
      "text/plain": [
       "    Weight_Kg  Low_Price  High_Price  Sales_Total  Total_Qty_Sold  \\\n",
       "1        18.3      150.0       170.0      51710.0             332   \n",
       "7        11.0       50.0        50.0      16000.0             320   \n",
       "24        9.0       55.0        55.0        990.0              18   \n",
       "40       18.3       80.0       120.0      32020.0             388   \n",
       "69      400.0     1800.0      1800.0       1800.0               1   \n",
       "\n",
       "    Total_Kg_Sold  Stock_On_Hand  Year  Month  Day  ...  Size_Grade_1M  \\\n",
       "1          6075.6            822  2020      9    9  ...              0   \n",
       "7          3520.0              0  2020      4   14  ...              0   \n",
       "24          162.0           1506  2020      4   16  ...              0   \n",
       "40         7100.4            443  2020      5    4  ...              0   \n",
       "69          400.0              2  2020      9   28  ...              0   \n",
       "\n",
       "    Size_Grade_1S  Size_Grade_1U  Size_Grade_1X  Size_Grade_2L  Size_Grade_2M  \\\n",
       "1               0              0              0              0              0   \n",
       "7               0              0              0              0              1   \n",
       "24              0              0              0              0              0   \n",
       "40              1              0              0              0              0   \n",
       "69              1              0              0              0              0   \n",
       "\n",
       "    Size_Grade_2S  Size_Grade_2U  Size_Grade_2X  avg_price_per_kg  \n",
       "1               0              0              0              8.51  \n",
       "7               0              0              0              4.55  \n",
       "24              1              0              0              6.11  \n",
       "40              0              0              0              4.51  \n",
       "69              0              0              0              4.50  \n",
       "\n",
       "[5 rows x 36 columns]"
      ]
     },
     "execution_count": 29,
     "metadata": {},
     "output_type": "execute_result"
    }
   ],
   "source": [
    "# Dummy variable encoding for train set\n",
    "df_train_dummies = pd.get_dummies(df_train_c,drop_first = True)\n",
    "\n",
    "#place dependent variable to last column\n",
    "column_names = [col for col in df_train_dummies.columns if col != 'avg_price_per_kg'] + ['avg_price_per_kg']\n",
    "\n",
    "df_train_dummies = df_train_dummies.reindex(columns = column_names)\n",
    "df_train_dummies.head()"
   ]
  },
  {
   "cell_type": "markdown",
   "id": "reverse-yellow",
   "metadata": {},
   "source": [
    "After variable encoding, there is a **total** of **36 features** "
   ]
  },
  {
   "cell_type": "code",
   "execution_count": 30,
   "id": "noted-blanket",
   "metadata": {},
   "outputs": [],
   "source": [
    "# Dummy variable encoding for test set\n",
    "df_test_dummies = pd.get_dummies(df_test_c,drop_first = True)"
   ]
  },
  {
   "cell_type": "markdown",
   "id": "early-aluminum",
   "metadata": {},
   "source": [
    "#### Variable selection by Correlation and Significance"
   ]
  },
  {
   "cell_type": "code",
   "execution_count": 31,
   "id": "sound-first",
   "metadata": {},
   "outputs": [
    {
     "data": {
      "text/plain": [
       "avg_price_per_kg                 1.000000\n",
       "Container_M4183                  0.403229\n",
       "Province_W.CAPE-BERGRIVER ETC    0.262051\n",
       "Size_Grade_1X                    0.251451\n",
       "Container_EC120                  0.188162\n",
       "Size_Grade_1M                    0.175779\n",
       "Container_EF120                  0.114297\n",
       "Sales_Total                      0.108473\n",
       "Stock_On_Hand                    0.105028\n",
       "Total_Qty_Sold                   0.087536\n",
       "Container_EG140                  0.023753\n",
       "Container_M6125                  0.007568\n",
       "Month                            0.005205\n",
       "Container_M9125                  0.002812\n",
       "Total_Kg_Sold                   -0.001007\n",
       "Province_TRANSVAAL              -0.020415\n",
       "Province_ORANGE FREE STATE      -0.025026\n",
       "Province_WEST COAST             -0.025122\n",
       "Size_Grade_1U                   -0.027335\n",
       "Size_Grade_1S                   -0.028506\n",
       "Size_Grade_2X                   -0.051624\n",
       "Container_DT063                 -0.059579\n",
       "Size_Grade_2U                   -0.069457\n",
       "Day                             -0.071334\n",
       "Size_Grade_2L                   -0.089733\n",
       "Year                            -0.135526\n",
       "Container_JG110                 -0.140148\n",
       "Low_Price                       -0.141740\n",
       "Size_Grade_2M                   -0.153372\n",
       "High_Price                      -0.164496\n",
       "Province_EASTERN CAPE           -0.178531\n",
       "Container_JE090                 -0.322235\n",
       "Weight_Kg                       -0.337886\n",
       "Size_Grade_2S                   -0.352996\n",
       "Container_IA400                 -0.355565\n",
       "Province_NATAL                  -0.379801\n",
       "Name: avg_price_per_kg, dtype: float64"
      ]
     },
     "execution_count": 31,
     "metadata": {},
     "output_type": "execute_result"
    }
   ],
   "source": [
    "# Check how much each value correlates with the avg_price_per_kg\n",
    "# using the standard correlation coefficient i.e Pearson's r \n",
    "corr = df_train_dummies.corr()['avg_price_per_kg'].sort_values(ascending = False)\n",
    "corr"
   ]
  },
  {
   "cell_type": "code",
   "execution_count": 32,
   "id": "renewable-duration",
   "metadata": {},
   "outputs": [
    {
     "data": {
      "text/html": [
       "<div>\n",
       "<style scoped>\n",
       "    .dataframe tbody tr th:only-of-type {\n",
       "        vertical-align: middle;\n",
       "    }\n",
       "\n",
       "    .dataframe tbody tr th {\n",
       "        vertical-align: top;\n",
       "    }\n",
       "\n",
       "    .dataframe thead th {\n",
       "        text-align: right;\n",
       "    }\n",
       "</style>\n",
       "<table border=\"1\" class=\"dataframe\">\n",
       "  <thead>\n",
       "    <tr style=\"text-align: right;\">\n",
       "      <th></th>\n",
       "      <th>Correlation_Coefficient</th>\n",
       "      <th>P_Value</th>\n",
       "    </tr>\n",
       "  </thead>\n",
       "  <tbody>\n",
       "    <tr>\n",
       "      <th>Container_M4183</th>\n",
       "      <td>0.403229</td>\n",
       "      <td>0.000000</td>\n",
       "    </tr>\n",
       "    <tr>\n",
       "      <th>Size_Grade_2S</th>\n",
       "      <td>-0.352996</td>\n",
       "      <td>0.000000</td>\n",
       "    </tr>\n",
       "    <tr>\n",
       "      <th>Weight_Kg</th>\n",
       "      <td>-0.337886</td>\n",
       "      <td>0.000000</td>\n",
       "    </tr>\n",
       "    <tr>\n",
       "      <th>Container_JE090</th>\n",
       "      <td>-0.322235</td>\n",
       "      <td>0.000000</td>\n",
       "    </tr>\n",
       "    <tr>\n",
       "      <th>Province_EASTERN CAPE</th>\n",
       "      <td>-0.178531</td>\n",
       "      <td>0.000000</td>\n",
       "    </tr>\n",
       "    <tr>\n",
       "      <th>High_Price</th>\n",
       "      <td>-0.164496</td>\n",
       "      <td>0.000000</td>\n",
       "    </tr>\n",
       "    <tr>\n",
       "      <th>Size_Grade_2M</th>\n",
       "      <td>-0.153372</td>\n",
       "      <td>0.000000</td>\n",
       "    </tr>\n",
       "    <tr>\n",
       "      <th>Low_Price</th>\n",
       "      <td>-0.141740</td>\n",
       "      <td>0.000000</td>\n",
       "    </tr>\n",
       "    <tr>\n",
       "      <th>Container_JG110</th>\n",
       "      <td>-0.140148</td>\n",
       "      <td>0.000000</td>\n",
       "    </tr>\n",
       "    <tr>\n",
       "      <th>Year</th>\n",
       "      <td>-0.135526</td>\n",
       "      <td>0.000000</td>\n",
       "    </tr>\n",
       "    <tr>\n",
       "      <th>Container_IA400</th>\n",
       "      <td>-0.355565</td>\n",
       "      <td>0.000000</td>\n",
       "    </tr>\n",
       "    <tr>\n",
       "      <th>Province_NATAL</th>\n",
       "      <td>-0.379801</td>\n",
       "      <td>0.000000</td>\n",
       "    </tr>\n",
       "    <tr>\n",
       "      <th>Province_W.CAPE-BERGRIVER ETC</th>\n",
       "      <td>0.262051</td>\n",
       "      <td>0.000000</td>\n",
       "    </tr>\n",
       "    <tr>\n",
       "      <th>Size_Grade_1X</th>\n",
       "      <td>0.251451</td>\n",
       "      <td>0.000000</td>\n",
       "    </tr>\n",
       "    <tr>\n",
       "      <th>Container_EC120</th>\n",
       "      <td>0.188162</td>\n",
       "      <td>0.000000</td>\n",
       "    </tr>\n",
       "    <tr>\n",
       "      <th>Size_Grade_1M</th>\n",
       "      <td>0.175779</td>\n",
       "      <td>0.000000</td>\n",
       "    </tr>\n",
       "    <tr>\n",
       "      <th>Container_EF120</th>\n",
       "      <td>0.114297</td>\n",
       "      <td>0.000000</td>\n",
       "    </tr>\n",
       "    <tr>\n",
       "      <th>Sales_Total</th>\n",
       "      <td>0.108473</td>\n",
       "      <td>0.000002</td>\n",
       "    </tr>\n",
       "    <tr>\n",
       "      <th>Stock_On_Hand</th>\n",
       "      <td>0.105028</td>\n",
       "      <td>0.000003</td>\n",
       "    </tr>\n",
       "    <tr>\n",
       "      <th>Size_Grade_2L</th>\n",
       "      <td>-0.089733</td>\n",
       "      <td>0.000072</td>\n",
       "    </tr>\n",
       "    <tr>\n",
       "      <th>Total_Qty_Sold</th>\n",
       "      <td>0.087536</td>\n",
       "      <td>0.000108</td>\n",
       "    </tr>\n",
       "    <tr>\n",
       "      <th>Day</th>\n",
       "      <td>-0.071334</td>\n",
       "      <td>0.001612</td>\n",
       "    </tr>\n",
       "    <tr>\n",
       "      <th>Size_Grade_2U</th>\n",
       "      <td>-0.069457</td>\n",
       "      <td>0.002137</td>\n",
       "    </tr>\n",
       "    <tr>\n",
       "      <th>Container_DT063</th>\n",
       "      <td>-0.059579</td>\n",
       "      <td>0.008465</td>\n",
       "    </tr>\n",
       "    <tr>\n",
       "      <th>Size_Grade_2X</th>\n",
       "      <td>-0.051624</td>\n",
       "      <td>0.022556</td>\n",
       "    </tr>\n",
       "  </tbody>\n",
       "</table>\n",
       "</div>"
      ],
      "text/plain": [
       "                               Correlation_Coefficient   P_Value\n",
       "Container_M4183                               0.403229  0.000000\n",
       "Size_Grade_2S                                -0.352996  0.000000\n",
       "Weight_Kg                                    -0.337886  0.000000\n",
       "Container_JE090                              -0.322235  0.000000\n",
       "Province_EASTERN CAPE                        -0.178531  0.000000\n",
       "High_Price                                   -0.164496  0.000000\n",
       "Size_Grade_2M                                -0.153372  0.000000\n",
       "Low_Price                                    -0.141740  0.000000\n",
       "Container_JG110                              -0.140148  0.000000\n",
       "Year                                         -0.135526  0.000000\n",
       "Container_IA400                              -0.355565  0.000000\n",
       "Province_NATAL                               -0.379801  0.000000\n",
       "Province_W.CAPE-BERGRIVER ETC                 0.262051  0.000000\n",
       "Size_Grade_1X                                 0.251451  0.000000\n",
       "Container_EC120                               0.188162  0.000000\n",
       "Size_Grade_1M                                 0.175779  0.000000\n",
       "Container_EF120                               0.114297  0.000000\n",
       "Sales_Total                                   0.108473  0.000002\n",
       "Stock_On_Hand                                 0.105028  0.000003\n",
       "Size_Grade_2L                                -0.089733  0.000072\n",
       "Total_Qty_Sold                                0.087536  0.000108\n",
       "Day                                          -0.071334  0.001612\n",
       "Size_Grade_2U                                -0.069457  0.002137\n",
       "Container_DT063                              -0.059579  0.008465\n",
       "Size_Grade_2X                                -0.051624  0.022556"
      ]
     },
     "execution_count": 32,
     "metadata": {},
     "output_type": "execute_result"
    }
   ],
   "source": [
    "# Build a dictionary of correlation coefficients and p-values\n",
    "dict_cp = {}\n",
    "\n",
    "columns_ = [col for col in corr.index if col != 'avg_price_per_kg']\n",
    "\n",
    "for col in columns_:\n",
    "    p_val = round(pearsonr(df_train_dummies[col], df_train_dummies['avg_price_per_kg'])[1],6)\n",
    "    dict_cp[col] = {'Correlation_Coefficient':corr[col],\n",
    "                    'P_Value':p_val}   \n",
    "\n",
    "df_cp = pd.DataFrame(dict_cp).T\n",
    "df_cp_sorted = df_cp.sort_values('P_Value')\n",
    "\n",
    "# For a 5% signifance value, we can infer that the below features are significant\n",
    "significant_features = df_cp_sorted[df_cp_sorted['P_Value']<0.05]\n",
    "significant_features"
   ]
  },
  {
   "cell_type": "markdown",
   "id": "fatty-invite",
   "metadata": {},
   "source": [
    "For a logic test with a **signifance value of 5%**, we can infer that the below features are statistically significant: \n",
    "- Container_M4183 \t\n",
    "- Size_Grade_2S \t\n",
    "- Weight_Kg \t\n",
    "- Container_JE090 \t\n",
    "- Province_EASTERN CAPE \t\n",
    "- High_Price \n",
    "- Size_Grade_2M \t\n",
    "- Low_Price \t\n",
    "- Container_JG110 \t\n",
    "- Year \t \n",
    "- Container_IA400 \t\n",
    "- Province_NATAL \t\n",
    "- Province_W.CAPE-BERGRIVER ETC \t\n",
    "- Size_Grade_1X \t\n",
    "- Container_EC120 \t\n",
    "- Size_Grade_1M \n",
    "- Container_EF120\n",
    "- Sales_Total \t\n",
    "- Stock_On_Hand \t\n",
    "- Size_Grade_2L \n",
    "- Total_Qty_Sold \t\n",
    "- Day \t\n",
    "- Size_Grade_2U \t\n",
    "- Container_DT063 \t\n",
    "- Size_Grade_2X"
   ]
  },
  {
   "cell_type": "markdown",
   "id": "analyzed-sphere",
   "metadata": {},
   "source": [
    "## Training the models"
   ]
  },
  {
   "cell_type": "markdown",
   "id": "dimensional-orleans",
   "metadata": {},
   "source": [
    "#### Training a Multiple Regression model with outliers and with Date column not transformed"
   ]
  },
  {
   "cell_type": "code",
   "execution_count": 33,
   "id": "patent-condition",
   "metadata": {},
   "outputs": [],
   "source": [
    "x = df_train_dummies_all.drop(['avg_price_per_kg'],axis=1)\n",
    "y = df_train_dummies_all['avg_price_per_kg']"
   ]
  },
  {
   "cell_type": "code",
   "execution_count": 34,
   "id": "adjusted-headquarters",
   "metadata": {},
   "outputs": [],
   "source": [
    "# set test size to 20 % of training data\n",
    "x_train, x_test, y_train, y_test = train_test_split(x,y,test_size=0.2,random_state=42)"
   ]
  },
  {
   "cell_type": "code",
   "execution_count": 35,
   "id": "given-cancellation",
   "metadata": {},
   "outputs": [],
   "source": [
    "# create model object\n",
    "lm = LinearRegression()"
   ]
  },
  {
   "cell_type": "code",
   "execution_count": 36,
   "id": "acceptable-shuttle",
   "metadata": {},
   "outputs": [
    {
     "data": {
      "text/plain": [
       "LinearRegression()"
      ]
     },
     "execution_count": 36,
     "metadata": {},
     "output_type": "execute_result"
    }
   ],
   "source": [
    "lm.fit(x_train,y_train)"
   ]
  },
  {
   "cell_type": "code",
   "execution_count": 37,
   "id": "seasonal-sheffield",
   "metadata": {},
   "outputs": [],
   "source": [
    "# extract model intercept\n",
    "beta_0 = float(lm.intercept_)"
   ]
  },
  {
   "cell_type": "code",
   "execution_count": 38,
   "id": "lightweight-parcel",
   "metadata": {},
   "outputs": [],
   "source": [
    "# extract model coeffs\n",
    "beta_js = pd.DataFrame(lm.coef_, x.columns, columns=['Coefficient'])"
   ]
  },
  {
   "cell_type": "code",
   "execution_count": 39,
   "id": "centered-foundation",
   "metadata": {},
   "outputs": [
    {
     "name": "stdout",
     "output_type": "stream",
     "text": [
      "Intercept: 6.049505373274032\n"
     ]
    }
   ],
   "source": [
    "print(\"Intercept:\", beta_0)"
   ]
  },
  {
   "cell_type": "code",
   "execution_count": 40,
   "id": "sporting-operations",
   "metadata": {},
   "outputs": [
    {
     "data": {
      "text/html": [
       "<div>\n",
       "<style scoped>\n",
       "    .dataframe tbody tr th:only-of-type {\n",
       "        vertical-align: middle;\n",
       "    }\n",
       "\n",
       "    .dataframe tbody tr th {\n",
       "        vertical-align: top;\n",
       "    }\n",
       "\n",
       "    .dataframe thead th {\n",
       "        text-align: right;\n",
       "    }\n",
       "</style>\n",
       "<table border=\"1\" class=\"dataframe\">\n",
       "  <thead>\n",
       "    <tr style=\"text-align: right;\">\n",
       "      <th></th>\n",
       "      <th>Coefficient</th>\n",
       "    </tr>\n",
       "  </thead>\n",
       "  <tbody>\n",
       "    <tr>\n",
       "      <th>Weight_Kg</th>\n",
       "      <td>-0.013002</td>\n",
       "    </tr>\n",
       "    <tr>\n",
       "      <th>Low_Price</th>\n",
       "      <td>0.000009</td>\n",
       "    </tr>\n",
       "    <tr>\n",
       "      <th>High_Price</th>\n",
       "      <td>0.001451</td>\n",
       "    </tr>\n",
       "    <tr>\n",
       "      <th>Sales_Total</th>\n",
       "      <td>0.000058</td>\n",
       "    </tr>\n",
       "    <tr>\n",
       "      <th>Total_Qty_Sold</th>\n",
       "      <td>-0.002073</td>\n",
       "    </tr>\n",
       "    <tr>\n",
       "      <th>...</th>\n",
       "      <td>...</td>\n",
       "    </tr>\n",
       "    <tr>\n",
       "      <th>Date_2020-09-21</th>\n",
       "      <td>0.945847</td>\n",
       "    </tr>\n",
       "    <tr>\n",
       "      <th>Date_2020-09-23</th>\n",
       "      <td>0.386276</td>\n",
       "    </tr>\n",
       "    <tr>\n",
       "      <th>Date_2020-09-28</th>\n",
       "      <td>-0.014228</td>\n",
       "    </tr>\n",
       "    <tr>\n",
       "      <th>Date_2020-10-01</th>\n",
       "      <td>0.407767</td>\n",
       "    </tr>\n",
       "    <tr>\n",
       "      <th>Date_2020-10-03</th>\n",
       "      <td>0.209396</td>\n",
       "    </tr>\n",
       "  </tbody>\n",
       "</table>\n",
       "<p>182 rows × 1 columns</p>\n",
       "</div>"
      ],
      "text/plain": [
       "                 Coefficient\n",
       "Weight_Kg          -0.013002\n",
       "Low_Price           0.000009\n",
       "High_Price          0.001451\n",
       "Sales_Total         0.000058\n",
       "Total_Qty_Sold     -0.002073\n",
       "...                      ...\n",
       "Date_2020-09-21     0.945847\n",
       "Date_2020-09-23     0.386276\n",
       "Date_2020-09-28    -0.014228\n",
       "Date_2020-10-01     0.407767\n",
       "Date_2020-10-03     0.209396\n",
       "\n",
       "[182 rows x 1 columns]"
      ]
     },
     "execution_count": 40,
     "metadata": {},
     "output_type": "execute_result"
    }
   ],
   "source": [
    "beta_js"
   ]
  },
  {
   "cell_type": "markdown",
   "id": "handled-vermont",
   "metadata": {},
   "source": [
    "#### Predictions on the train data set"
   ]
  },
  {
   "cell_type": "code",
   "execution_count": 41,
   "id": "electrical-employer",
   "metadata": {},
   "outputs": [
    {
     "name": "stdout",
     "output_type": "stream",
     "text": [
      "Multiple Regression model RMSE is: 1.2139989096502701\n"
     ]
    }
   ],
   "source": [
    "# get predictions for train data\n",
    "y_pred_tr = lm.predict(x_train)\n",
    "\n",
    "# calculate MSE\n",
    "MSE = mean_squared_error(y_pred_tr,y_train)\n",
    "\n",
    "# Report RMSE\n",
    "print(\"Multiple Regression model RMSE is:\",np.sqrt(MSE))"
   ]
  },
  {
   "cell_type": "markdown",
   "id": "polar-minneapolis",
   "metadata": {},
   "source": [
    "#### Predictions on the test data set"
   ]
  },
  {
   "cell_type": "code",
   "execution_count": 42,
   "id": "attractive-professional",
   "metadata": {},
   "outputs": [
    {
     "name": "stdout",
     "output_type": "stream",
     "text": [
      "Multiple Regression model RMSE is: 1.4105711751803909\n"
     ]
    }
   ],
   "source": [
    "# get predictions for test data\n",
    "y_pred_te = lm.predict(x_test)\n",
    "\n",
    "# calculate MSE\n",
    "MSE = mean_squared_error(y_pred_te,y_test)\n",
    "\n",
    "# Report RMSE\n",
    "print(\"Multiple Regression model RMSE is:\",np.sqrt(MSE))"
   ]
  },
  {
   "cell_type": "markdown",
   "id": "normal-secret",
   "metadata": {},
   "source": [
    "#### Training a multiple linear regression model without outliers and with Date column not transformed"
   ]
  },
  {
   "cell_type": "code",
   "execution_count": 43,
   "id": "billion-western",
   "metadata": {},
   "outputs": [],
   "source": [
    "x = df_out\n",
    "y = df_train_dummies['avg_price_per_kg']"
   ]
  },
  {
   "cell_type": "code",
   "execution_count": 44,
   "id": "regulation-sydney",
   "metadata": {},
   "outputs": [],
   "source": [
    "# set test size to 20 % of training data\n",
    "x_train, x_test, y_train, y_test = train_test_split(x,y,test_size=0.2,random_state=42)"
   ]
  },
  {
   "cell_type": "code",
   "execution_count": 45,
   "id": "friendly-assembly",
   "metadata": {},
   "outputs": [],
   "source": [
    "# create model object\n",
    "lm = LinearRegression()"
   ]
  },
  {
   "cell_type": "code",
   "execution_count": 46,
   "id": "permanent-latin",
   "metadata": {},
   "outputs": [
    {
     "data": {
      "text/plain": [
       "LinearRegression()"
      ]
     },
     "execution_count": 46,
     "metadata": {},
     "output_type": "execute_result"
    }
   ],
   "source": [
    "lm.fit(x_train,y_train)"
   ]
  },
  {
   "cell_type": "code",
   "execution_count": 47,
   "id": "inside-reach",
   "metadata": {},
   "outputs": [],
   "source": [
    "# extract model intercept\n",
    "beta_0 = float(lm.intercept_)"
   ]
  },
  {
   "cell_type": "code",
   "execution_count": 48,
   "id": "hairy-columbus",
   "metadata": {},
   "outputs": [],
   "source": [
    "# extract model coeffs\n",
    "beta_js = pd.DataFrame(lm.coef_, x.columns, columns=['Coefficient'])"
   ]
  },
  {
   "cell_type": "code",
   "execution_count": 49,
   "id": "romantic-trinity",
   "metadata": {},
   "outputs": [
    {
     "name": "stdout",
     "output_type": "stream",
     "text": [
      "Intercept: 4522435496552.656\n"
     ]
    }
   ],
   "source": [
    "print(\"Intercept:\", beta_0)"
   ]
  },
  {
   "cell_type": "markdown",
   "id": "annoying-springfield",
   "metadata": {},
   "source": [
    "#### Predictions on the train data set"
   ]
  },
  {
   "cell_type": "code",
   "execution_count": 50,
   "id": "stone-bunch",
   "metadata": {},
   "outputs": [
    {
     "name": "stdout",
     "output_type": "stream",
     "text": [
      "Multiple Regression model RMSE is: 0.9772099836079946\n"
     ]
    }
   ],
   "source": [
    "# get predictions for train data\n",
    "y_pred_tr = lm.predict(x_train)\n",
    "\n",
    "# calculate MSE\n",
    "MSE = mean_squared_error(y_pred_tr,y_train)\n",
    "\n",
    "# Report RMSE\n",
    "print(\"Multiple Regression model RMSE is:\",np.sqrt(MSE))"
   ]
  },
  {
   "cell_type": "markdown",
   "id": "mineral-second",
   "metadata": {},
   "source": [
    "#### Predictions on the test data set"
   ]
  },
  {
   "cell_type": "code",
   "execution_count": 51,
   "id": "computational-jackson",
   "metadata": {},
   "outputs": [
    {
     "name": "stdout",
     "output_type": "stream",
     "text": [
      "Multiple Regression model RMSE is: 0.901465520383787\n"
     ]
    }
   ],
   "source": [
    "# get predictions for test data\n",
    "y_pred_te = lm.predict(x_test)\n",
    "\n",
    "# calculate MSE\n",
    "MSE = mean_squared_error(y_pred_te,y_test)\n",
    "\n",
    "# Report RMSE\n",
    "print(\"Multiple Regression model RMSE is:\",np.sqrt(MSE))"
   ]
  },
  {
   "cell_type": "markdown",
   "id": "pharmaceutical-message",
   "metadata": {},
   "source": [
    "#### Training a Multiple Regression model with outliers and all columns with the Date feature transformed"
   ]
  },
  {
   "cell_type": "code",
   "execution_count": 52,
   "id": "metropolitan-spoke",
   "metadata": {},
   "outputs": [],
   "source": [
    "x = df_train_dummies.drop(['avg_price_per_kg'],axis=1)\n",
    "y = df_train_dummies['avg_price_per_kg']"
   ]
  },
  {
   "cell_type": "code",
   "execution_count": 53,
   "id": "congressional-arctic",
   "metadata": {},
   "outputs": [],
   "source": [
    "# set test size to 20 % of training data\n",
    "x_train, x_test, y_train, y_test = train_test_split(x,y,test_size=0.2,random_state=42)"
   ]
  },
  {
   "cell_type": "code",
   "execution_count": 54,
   "id": "impressive-thong",
   "metadata": {},
   "outputs": [],
   "source": [
    "# create model object\n",
    "lm = LinearRegression()"
   ]
  },
  {
   "cell_type": "code",
   "execution_count": 55,
   "id": "appreciated-affiliation",
   "metadata": {},
   "outputs": [
    {
     "data": {
      "text/plain": [
       "LinearRegression()"
      ]
     },
     "execution_count": 55,
     "metadata": {},
     "output_type": "execute_result"
    }
   ],
   "source": [
    "lm.fit(x_train,y_train)"
   ]
  },
  {
   "cell_type": "code",
   "execution_count": 56,
   "id": "metric-hughes",
   "metadata": {},
   "outputs": [],
   "source": [
    "# extract model intercept\n",
    "beta_0 = float(lm.intercept_)"
   ]
  },
  {
   "cell_type": "code",
   "execution_count": 57,
   "id": "binary-appeal",
   "metadata": {},
   "outputs": [],
   "source": [
    "# extract model coeffs\n",
    "beta_js = pd.DataFrame(lm.coef_, x.columns, columns=['Coefficient'])"
   ]
  },
  {
   "cell_type": "code",
   "execution_count": 58,
   "id": "answering-prisoner",
   "metadata": {},
   "outputs": [
    {
     "name": "stdout",
     "output_type": "stream",
     "text": [
      "Intercept: -15888577.610581508\n"
     ]
    }
   ],
   "source": [
    "print(\"Intercept:\", beta_0)"
   ]
  },
  {
   "cell_type": "code",
   "execution_count": 59,
   "id": "knowing-foundation",
   "metadata": {},
   "outputs": [
    {
     "data": {
      "text/html": [
       "<div>\n",
       "<style scoped>\n",
       "    .dataframe tbody tr th:only-of-type {\n",
       "        vertical-align: middle;\n",
       "    }\n",
       "\n",
       "    .dataframe tbody tr th {\n",
       "        vertical-align: top;\n",
       "    }\n",
       "\n",
       "    .dataframe thead th {\n",
       "        text-align: right;\n",
       "    }\n",
       "</style>\n",
       "<table border=\"1\" class=\"dataframe\">\n",
       "  <thead>\n",
       "    <tr style=\"text-align: right;\">\n",
       "      <th></th>\n",
       "      <th>Coefficient</th>\n",
       "    </tr>\n",
       "  </thead>\n",
       "  <tbody>\n",
       "    <tr>\n",
       "      <th>Weight_Kg</th>\n",
       "      <td>5.297164e+06</td>\n",
       "    </tr>\n",
       "    <tr>\n",
       "      <th>Low_Price</th>\n",
       "      <td>7.787863e-05</td>\n",
       "    </tr>\n",
       "    <tr>\n",
       "      <th>High_Price</th>\n",
       "      <td>1.841532e-03</td>\n",
       "    </tr>\n",
       "    <tr>\n",
       "      <th>Sales_Total</th>\n",
       "      <td>7.220452e-05</td>\n",
       "    </tr>\n",
       "    <tr>\n",
       "      <th>Total_Qty_Sold</th>\n",
       "      <td>-2.261687e-03</td>\n",
       "    </tr>\n",
       "    <tr>\n",
       "      <th>Total_Kg_Sold</th>\n",
       "      <td>-3.720341e-04</td>\n",
       "    </tr>\n",
       "    <tr>\n",
       "      <th>Stock_On_Hand</th>\n",
       "      <td>-1.337213e-04</td>\n",
       "    </tr>\n",
       "    <tr>\n",
       "      <th>Year</th>\n",
       "      <td>-1.439365e+00</td>\n",
       "    </tr>\n",
       "    <tr>\n",
       "      <th>Month</th>\n",
       "      <td>1.624324e-02</td>\n",
       "    </tr>\n",
       "    <tr>\n",
       "      <th>Day</th>\n",
       "      <td>-8.276159e-03</td>\n",
       "    </tr>\n",
       "    <tr>\n",
       "      <th>Province_EASTERN CAPE</th>\n",
       "      <td>-1.554142e+00</td>\n",
       "    </tr>\n",
       "    <tr>\n",
       "      <th>Province_NATAL</th>\n",
       "      <td>-2.135080e+00</td>\n",
       "    </tr>\n",
       "    <tr>\n",
       "      <th>Province_ORANGE FREE STATE</th>\n",
       "      <td>-1.237176e+00</td>\n",
       "    </tr>\n",
       "    <tr>\n",
       "      <th>Province_TRANSVAAL</th>\n",
       "      <td>-4.945699e-01</td>\n",
       "    </tr>\n",
       "    <tr>\n",
       "      <th>Province_W.CAPE-BERGRIVER ETC</th>\n",
       "      <td>3.532781e-01</td>\n",
       "    </tr>\n",
       "    <tr>\n",
       "      <th>Province_WEST COAST</th>\n",
       "      <td>-4.046129e-01</td>\n",
       "    </tr>\n",
       "    <tr>\n",
       "      <th>Container_DT063</th>\n",
       "      <td>-1.748064e+07</td>\n",
       "    </tr>\n",
       "    <tr>\n",
       "      <th>Container_EC120</th>\n",
       "      <td>-4.767448e+07</td>\n",
       "    </tr>\n",
       "    <tr>\n",
       "      <th>Container_EF120</th>\n",
       "      <td>-4.767447e+07</td>\n",
       "    </tr>\n",
       "    <tr>\n",
       "      <th>Container_EG140</th>\n",
       "      <td>-5.826880e+07</td>\n",
       "    </tr>\n",
       "    <tr>\n",
       "      <th>Container_IA400</th>\n",
       "      <td>-2.102974e+09</td>\n",
       "    </tr>\n",
       "    <tr>\n",
       "      <th>Container_JE090</th>\n",
       "      <td>-3.178298e+07</td>\n",
       "    </tr>\n",
       "    <tr>\n",
       "      <th>Container_JG110</th>\n",
       "      <td>-4.237731e+07</td>\n",
       "    </tr>\n",
       "    <tr>\n",
       "      <th>Container_M4183</th>\n",
       "      <td>-8.104661e+07</td>\n",
       "    </tr>\n",
       "    <tr>\n",
       "      <th>Container_M6125</th>\n",
       "      <td>-5.032306e+07</td>\n",
       "    </tr>\n",
       "    <tr>\n",
       "      <th>Container_M9125</th>\n",
       "      <td>-5.032306e+07</td>\n",
       "    </tr>\n",
       "    <tr>\n",
       "      <th>Size_Grade_1M</th>\n",
       "      <td>-3.170446e-01</td>\n",
       "    </tr>\n",
       "    <tr>\n",
       "      <th>Size_Grade_1S</th>\n",
       "      <td>-7.306656e-01</td>\n",
       "    </tr>\n",
       "    <tr>\n",
       "      <th>Size_Grade_1U</th>\n",
       "      <td>-3.080055e+00</td>\n",
       "    </tr>\n",
       "    <tr>\n",
       "      <th>Size_Grade_1X</th>\n",
       "      <td>5.972525e-01</td>\n",
       "    </tr>\n",
       "    <tr>\n",
       "      <th>Size_Grade_2L</th>\n",
       "      <td>-1.807230e+00</td>\n",
       "    </tr>\n",
       "    <tr>\n",
       "      <th>Size_Grade_2M</th>\n",
       "      <td>-1.382616e+00</td>\n",
       "    </tr>\n",
       "    <tr>\n",
       "      <th>Size_Grade_2S</th>\n",
       "      <td>-2.069935e+00</td>\n",
       "    </tr>\n",
       "    <tr>\n",
       "      <th>Size_Grade_2U</th>\n",
       "      <td>-2.710679e+00</td>\n",
       "    </tr>\n",
       "    <tr>\n",
       "      <th>Size_Grade_2X</th>\n",
       "      <td>-2.436007e+00</td>\n",
       "    </tr>\n",
       "  </tbody>\n",
       "</table>\n",
       "</div>"
      ],
      "text/plain": [
       "                                Coefficient\n",
       "Weight_Kg                      5.297164e+06\n",
       "Low_Price                      7.787863e-05\n",
       "High_Price                     1.841532e-03\n",
       "Sales_Total                    7.220452e-05\n",
       "Total_Qty_Sold                -2.261687e-03\n",
       "Total_Kg_Sold                 -3.720341e-04\n",
       "Stock_On_Hand                 -1.337213e-04\n",
       "Year                          -1.439365e+00\n",
       "Month                          1.624324e-02\n",
       "Day                           -8.276159e-03\n",
       "Province_EASTERN CAPE         -1.554142e+00\n",
       "Province_NATAL                -2.135080e+00\n",
       "Province_ORANGE FREE STATE    -1.237176e+00\n",
       "Province_TRANSVAAL            -4.945699e-01\n",
       "Province_W.CAPE-BERGRIVER ETC  3.532781e-01\n",
       "Province_WEST COAST           -4.046129e-01\n",
       "Container_DT063               -1.748064e+07\n",
       "Container_EC120               -4.767448e+07\n",
       "Container_EF120               -4.767447e+07\n",
       "Container_EG140               -5.826880e+07\n",
       "Container_IA400               -2.102974e+09\n",
       "Container_JE090               -3.178298e+07\n",
       "Container_JG110               -4.237731e+07\n",
       "Container_M4183               -8.104661e+07\n",
       "Container_M6125               -5.032306e+07\n",
       "Container_M9125               -5.032306e+07\n",
       "Size_Grade_1M                 -3.170446e-01\n",
       "Size_Grade_1S                 -7.306656e-01\n",
       "Size_Grade_1U                 -3.080055e+00\n",
       "Size_Grade_1X                  5.972525e-01\n",
       "Size_Grade_2L                 -1.807230e+00\n",
       "Size_Grade_2M                 -1.382616e+00\n",
       "Size_Grade_2S                 -2.069935e+00\n",
       "Size_Grade_2U                 -2.710679e+00\n",
       "Size_Grade_2X                 -2.436007e+00"
      ]
     },
     "execution_count": 59,
     "metadata": {},
     "output_type": "execute_result"
    }
   ],
   "source": [
    "beta_js"
   ]
  },
  {
   "cell_type": "markdown",
   "id": "built-public",
   "metadata": {},
   "source": [
    "#### Visualize the trained data"
   ]
  },
  {
   "cell_type": "code",
   "execution_count": 60,
   "id": "advised-mattress",
   "metadata": {},
   "outputs": [
    {
     "data": {
      "image/png": "[encoded data removed]",
      "text/plain": [
       "<Figure size 648x504 with 4 Axes>"
      ]
     },
     "metadata": {
      "needs_background": "light"
     },
     "output_type": "display_data"
    }
   ],
   "source": [
    "fig, axs = plt.subplots(2, 2, figsize=(9,7))\n",
    "\n",
    "axs[0,0].scatter(df_train_dummies['Weight_Kg'], df_train_dummies['avg_price_per_kg'])\n",
    "axs[0,0].plot(df_train_dummies['Weight_Kg'], lm.intercept_ + lm.coef_[0]*df_train_dummies['Weight_Kg'], color='red')\n",
    "axs[0,0].title.set_text('Weight (wt) vs. avg_price_per_kg')\n",
    "\n",
    "axs[0,1].scatter(df_train_dummies['Container_M4183'], df_train_dummies['avg_price_per_kg'])\n",
    "axs[0,1].plot(df_train_dummies['Container_M4183'], lm.intercept_ + lm.coef_[23]*df_train_dummies['Container_M4183'], color='red')\n",
    "axs[0,1].title.set_text('Container_M4183 vs. avg_price_per_kg')\n",
    "\n",
    "axs[1,0].scatter(df_train_dummies['Size_Grade_2S'], df_train_dummies['avg_price_per_kg'])\n",
    "axs[1,0].plot(df_train_dummies['Size_Grade_2S'], lm.intercept_ + lm.coef_[32]*df_train_dummies['Size_Grade_2S'], color='red')\n",
    "axs[1,0].title.set_text('Size_Grade_2S vs. avg_price_per_kg')\n",
    "\n",
    "axs[1,1].scatter(df_train_dummies['Container_JE090'], df_train_dummies['avg_price_per_kg'])\n",
    "axs[1,1].plot(df_train_dummies['Container_JE090'], lm.intercept_ + lm.coef_[21]*df_train_dummies['Container_JE090'], color='red')\n",
    "axs[1,1].title.set_text('Container_JE090 vs. avg_price_per_kg')\n",
    "\n",
    "fig.tight_layout(pad=3.0)\n",
    "\n",
    "plt.show()"
   ]
  },
  {
   "cell_type": "markdown",
   "id": "monetary-wales",
   "metadata": {},
   "source": [
    "#### Predictions on the train data set"
   ]
  },
  {
   "cell_type": "code",
   "execution_count": 61,
   "id": "native-recommendation",
   "metadata": {},
   "outputs": [
    {
     "name": "stdout",
     "output_type": "stream",
     "text": [
      "Multiple Regression model RMSE is: 1.36848206566025\n"
     ]
    }
   ],
   "source": [
    "# get predictions for train data\n",
    "y_pred_tr = lm.predict(x_train)\n",
    "\n",
    "# calculate MSE\n",
    "MSE = mean_squared_error(y_pred_tr,y_train)\n",
    "\n",
    "# Report RMSE\n",
    "print(\"Multiple Regression model RMSE is:\",np.sqrt(MSE))"
   ]
  },
  {
   "cell_type": "markdown",
   "id": "architectural-province",
   "metadata": {},
   "source": [
    "#### Predictions on the test data set"
   ]
  },
  {
   "cell_type": "code",
   "execution_count": 62,
   "id": "iraqi-recognition",
   "metadata": {},
   "outputs": [
    {
     "name": "stdout",
     "output_type": "stream",
     "text": [
      "Multiple Regression model RMSE is: 1.4096624270084281\n"
     ]
    }
   ],
   "source": [
    "# get predictions for test data\n",
    "y_pred_te = lm.predict(x_test)\n",
    "\n",
    "# calculate MSE\n",
    "MSE = mean_squared_error(y_pred_te,y_test)\n",
    "\n",
    "# Report RMSE\n",
    "print(\"Multiple Regression model RMSE is:\",np.sqrt(MSE))"
   ]
  },
  {
   "cell_type": "markdown",
   "id": "personalized-cleaners",
   "metadata": {},
   "source": [
    "From the above we can observe that the model does poorly when the date feature is transformed,producing an **RMSE** of **1.4096624270084281** on the **test set** but does better when the date feature is not transformed producing an **RMSE** of  **0.901465520383787** on the **test set.**"
   ]
  },
  {
   "cell_type": "markdown",
   "id": "baking-stations",
   "metadata": {},
   "source": [
    "#### Training a multiple linear regression model with statistically significant features with the Date column transformed.  (outliers included)"
   ]
  },
  {
   "cell_type": "code",
   "execution_count": 63,
   "id": "operating-rouge",
   "metadata": {},
   "outputs": [
    {
     "data": {
      "text/plain": [
       "(1952, 25)"
      ]
     },
     "execution_count": 63,
     "metadata": {},
     "output_type": "execute_result"
    }
   ],
   "source": [
    "df_train_dummies_copy = df_train_dummies.copy() #make a copy of df train dummies\n",
    "features = df_cp_sorted[df_cp_sorted['P_Value']<0.05].index\n",
    "df_train_dummies_copy = df_train_dummies_copy.drop(['avg_price_per_kg'],axis=1)\n",
    "#drop irrelevant features\n",
    "irrelevant_features = [feature for feature in df_train_dummies_copy.columns if feature not in features ]\n",
    "df_train_dummies_copy = df_train_dummies_copy.drop(irrelevant_features,axis=1)\n",
    "\n",
    "\n",
    "df_train_dummies_copy.shape"
   ]
  },
  {
   "cell_type": "code",
   "execution_count": 64,
   "id": "mighty-murder",
   "metadata": {},
   "outputs": [],
   "source": [
    "x = df_train_dummies_copy\n",
    "y = df_train_dummies['avg_price_per_kg']"
   ]
  },
  {
   "cell_type": "code",
   "execution_count": 65,
   "id": "incident-verse",
   "metadata": {},
   "outputs": [],
   "source": [
    "# set test size to 20 % of training data\n",
    "x_train, x_test, y_train, y_test = train_test_split(x,y,test_size=0.2,random_state=42)"
   ]
  },
  {
   "cell_type": "code",
   "execution_count": 66,
   "id": "bizarre-clear",
   "metadata": {},
   "outputs": [],
   "source": [
    "# Instantiate regression tree model\n",
    "lm = LinearRegression()"
   ]
  },
  {
   "cell_type": "code",
   "execution_count": 67,
   "id": "minor-favorite",
   "metadata": {},
   "outputs": [
    {
     "data": {
      "text/plain": [
       "LinearRegression()"
      ]
     },
     "execution_count": 67,
     "metadata": {},
     "output_type": "execute_result"
    }
   ],
   "source": [
    "lm.fit(x_train,y_train)"
   ]
  },
  {
   "cell_type": "code",
   "execution_count": 68,
   "id": "underlying-ridge",
   "metadata": {},
   "outputs": [],
   "source": [
    "# extract model intercept\n",
    "beta_0 = float(lm.intercept_)"
   ]
  },
  {
   "cell_type": "code",
   "execution_count": 69,
   "id": "recent-shoot",
   "metadata": {},
   "outputs": [],
   "source": [
    "# extract model coeffs\n",
    "beta_js = pd.DataFrame(lm.coef_, x.columns, columns=['Coefficient'])"
   ]
  },
  {
   "cell_type": "code",
   "execution_count": 70,
   "id": "backed-circuit",
   "metadata": {},
   "outputs": [
    {
     "name": "stdout",
     "output_type": "stream",
     "text": [
      "Intercept: 3080.134181531915\n"
     ]
    }
   ],
   "source": [
    "print(\"Intercept:\", beta_0)"
   ]
  },
  {
   "cell_type": "code",
   "execution_count": 71,
   "id": "announced-attachment",
   "metadata": {},
   "outputs": [
    {
     "data": {
      "text/html": [
       "<div>\n",
       "<style scoped>\n",
       "    .dataframe tbody tr th:only-of-type {\n",
       "        vertical-align: middle;\n",
       "    }\n",
       "\n",
       "    .dataframe tbody tr th {\n",
       "        vertical-align: top;\n",
       "    }\n",
       "\n",
       "    .dataframe thead th {\n",
       "        text-align: right;\n",
       "    }\n",
       "</style>\n",
       "<table border=\"1\" class=\"dataframe\">\n",
       "  <thead>\n",
       "    <tr style=\"text-align: right;\">\n",
       "      <th></th>\n",
       "      <th>Coefficient</th>\n",
       "    </tr>\n",
       "  </thead>\n",
       "  <tbody>\n",
       "    <tr>\n",
       "      <th>Weight_Kg</th>\n",
       "      <td>0.144116</td>\n",
       "    </tr>\n",
       "    <tr>\n",
       "      <th>Low_Price</th>\n",
       "      <td>0.000863</td>\n",
       "    </tr>\n",
       "    <tr>\n",
       "      <th>High_Price</th>\n",
       "      <td>0.001262</td>\n",
       "    </tr>\n",
       "    <tr>\n",
       "      <th>Sales_Total</th>\n",
       "      <td>0.000007</td>\n",
       "    </tr>\n",
       "    <tr>\n",
       "      <th>Total_Qty_Sold</th>\n",
       "      <td>-0.000870</td>\n",
       "    </tr>\n",
       "    <tr>\n",
       "      <th>Stock_On_Hand</th>\n",
       "      <td>-0.000134</td>\n",
       "    </tr>\n",
       "    <tr>\n",
       "      <th>Year</th>\n",
       "      <td>-1.522052</td>\n",
       "    </tr>\n",
       "    <tr>\n",
       "      <th>Day</th>\n",
       "      <td>-0.009096</td>\n",
       "    </tr>\n",
       "    <tr>\n",
       "      <th>Province_EASTERN CAPE</th>\n",
       "      <td>-1.473784</td>\n",
       "    </tr>\n",
       "    <tr>\n",
       "      <th>Province_NATAL</th>\n",
       "      <td>-1.899272</td>\n",
       "    </tr>\n",
       "    <tr>\n",
       "      <th>Province_W.CAPE-BERGRIVER ETC</th>\n",
       "      <td>0.546371</td>\n",
       "    </tr>\n",
       "    <tr>\n",
       "      <th>Container_DT063</th>\n",
       "      <td>0.804108</td>\n",
       "    </tr>\n",
       "    <tr>\n",
       "      <th>Container_EC120</th>\n",
       "      <td>0.512826</td>\n",
       "    </tr>\n",
       "    <tr>\n",
       "      <th>Container_EF120</th>\n",
       "      <td>0.460716</td>\n",
       "    </tr>\n",
       "    <tr>\n",
       "      <th>Container_IA400</th>\n",
       "      <td>-62.332850</td>\n",
       "    </tr>\n",
       "    <tr>\n",
       "      <th>Container_JE090</th>\n",
       "      <td>0.055072</td>\n",
       "    </tr>\n",
       "    <tr>\n",
       "      <th>Container_JG110</th>\n",
       "      <td>-0.907563</td>\n",
       "    </tr>\n",
       "    <tr>\n",
       "      <th>Container_M4183</th>\n",
       "      <td>-0.549903</td>\n",
       "    </tr>\n",
       "    <tr>\n",
       "      <th>Size_Grade_1M</th>\n",
       "      <td>0.189320</td>\n",
       "    </tr>\n",
       "    <tr>\n",
       "      <th>Size_Grade_1X</th>\n",
       "      <td>0.644636</td>\n",
       "    </tr>\n",
       "    <tr>\n",
       "      <th>Size_Grade_2L</th>\n",
       "      <td>-0.843836</td>\n",
       "    </tr>\n",
       "    <tr>\n",
       "      <th>Size_Grade_2M</th>\n",
       "      <td>-0.520005</td>\n",
       "    </tr>\n",
       "    <tr>\n",
       "      <th>Size_Grade_2S</th>\n",
       "      <td>-1.351600</td>\n",
       "    </tr>\n",
       "    <tr>\n",
       "      <th>Size_Grade_2U</th>\n",
       "      <td>-1.795628</td>\n",
       "    </tr>\n",
       "    <tr>\n",
       "      <th>Size_Grade_2X</th>\n",
       "      <td>-1.537171</td>\n",
       "    </tr>\n",
       "  </tbody>\n",
       "</table>\n",
       "</div>"
      ],
      "text/plain": [
       "                               Coefficient\n",
       "Weight_Kg                         0.144116\n",
       "Low_Price                         0.000863\n",
       "High_Price                        0.001262\n",
       "Sales_Total                       0.000007\n",
       "Total_Qty_Sold                   -0.000870\n",
       "Stock_On_Hand                    -0.000134\n",
       "Year                             -1.522052\n",
       "Day                              -0.009096\n",
       "Province_EASTERN CAPE            -1.473784\n",
       "Province_NATAL                   -1.899272\n",
       "Province_W.CAPE-BERGRIVER ETC     0.546371\n",
       "Container_DT063                   0.804108\n",
       "Container_EC120                   0.512826\n",
       "Container_EF120                   0.460716\n",
       "Container_IA400                 -62.332850\n",
       "Container_JE090                   0.055072\n",
       "Container_JG110                  -0.907563\n",
       "Container_M4183                  -0.549903\n",
       "Size_Grade_1M                     0.189320\n",
       "Size_Grade_1X                     0.644636\n",
       "Size_Grade_2L                    -0.843836\n",
       "Size_Grade_2M                    -0.520005\n",
       "Size_Grade_2S                    -1.351600\n",
       "Size_Grade_2U                    -1.795628\n",
       "Size_Grade_2X                    -1.537171"
      ]
     },
     "execution_count": 71,
     "metadata": {},
     "output_type": "execute_result"
    }
   ],
   "source": [
    "beta_js"
   ]
  },
  {
   "cell_type": "code",
   "execution_count": 72,
   "id": "cheap-founder",
   "metadata": {},
   "outputs": [
    {
     "data": {
      "image/png": "[encoded data removed]",
      "text/plain": [
       "<Figure size 648x504 with 4 Axes>"
      ]
     },
     "metadata": {
      "needs_background": "light"
     },
     "output_type": "display_data"
    }
   ],
   "source": [
    "fig, axs = plt.subplots(2, 2, figsize=(9,7))\n",
    "\n",
    "axs[0,0].scatter(df_train_dummies['Weight_Kg'], df_train_dummies['avg_price_per_kg'])\n",
    "axs[0,0].plot(df_train_dummies['Weight_Kg'], lm.intercept_ + lm.coef_[0]*df_train_dummies['Weight_Kg'], color='red')\n",
    "axs[0,0].title.set_text('Weight (wt) vs. avg_price_per_kg')\n",
    "\n",
    "axs[0,1].scatter(df_train_dummies['Container_M4183'], df_train_dummies['avg_price_per_kg'])\n",
    "axs[0,1].plot(df_train_dummies['Container_M4183'], lm.intercept_ + lm.coef_[17]*df_train_dummies['Container_M4183'], color='red')\n",
    "axs[0,1].title.set_text('Container_M4183 vs. avg_price_per_kg')\n",
    "\n",
    "axs[1,0].scatter(df_train_dummies['Size_Grade_2S'], df_train_dummies['avg_price_per_kg'])\n",
    "axs[1,0].plot(df_train_dummies['Size_Grade_2S'], lm.intercept_ + lm.coef_[22]*df_train_dummies['Size_Grade_2S'], color='red')\n",
    "axs[1,0].title.set_text('Size_Grade_2S vs. avg_price_per_kg')\n",
    "\n",
    "axs[1,1].scatter(df_train_dummies['Container_JE090'], df_train_dummies['avg_price_per_kg'])\n",
    "axs[1,1].plot(df_train_dummies['Container_JE090'], lm.intercept_ + lm.coef_[15]*df_train_dummies['Container_JE090'], color='red')\n",
    "axs[1,1].title.set_text('Container_JE090 vs. avg_price_per_kg')\n",
    "\n",
    "fig.tight_layout(pad=3.0)\n",
    "\n",
    "plt.show()"
   ]
  },
  {
   "cell_type": "markdown",
   "id": "auburn-cambridge",
   "metadata": {},
   "source": [
    "#### Predictions on the train data set"
   ]
  },
  {
   "cell_type": "code",
   "execution_count": 73,
   "id": "tribal-animal",
   "metadata": {},
   "outputs": [
    {
     "name": "stdout",
     "output_type": "stream",
     "text": [
      "Multiple Linear Regression model RMSE is: 1.4694518398087517\n"
     ]
    }
   ],
   "source": [
    "# get predictions for train data\n",
    "y_pred_tr = lm.predict(x_train)\n",
    "\n",
    "# calculate MSE\n",
    "MSE = mean_squared_error(y_pred_tr,y_train)\n",
    "\n",
    "# Report RMSE\n",
    "print(\"Multiple Linear Regression model RMSE is:\",np.sqrt(MSE))"
   ]
  },
  {
   "cell_type": "markdown",
   "id": "still-polymer",
   "metadata": {},
   "source": [
    "#### Predictions on the test data set"
   ]
  },
  {
   "cell_type": "code",
   "execution_count": 74,
   "id": "suspended-civilization",
   "metadata": {},
   "outputs": [
    {
     "name": "stdout",
     "output_type": "stream",
     "text": [
      "Multiple Linear Regression model RMSE is: 1.4904685903658703\n"
     ]
    }
   ],
   "source": [
    "# get predictions for test data\n",
    "y_pred = lm.predict(x_test)\n",
    "\n",
    "# calculate MSE\n",
    "MSE = mean_squared_error(y_pred,y_test)\n",
    "\n",
    "# Report RMSE\n",
    "print(\"Multiple Linear Regression model RMSE is:\",np.sqrt(MSE))"
   ]
  },
  {
   "cell_type": "markdown",
   "id": "fluid-alert",
   "metadata": {},
   "source": [
    "From the above we note that even though we used **significant features**, the model does **not improve**. The **RMSE** on the test is **1.4904685903658585** using statistically significant features compared to using **all features** which gave an **RMSE** of **0.901465520383787**."
   ]
  },
  {
   "cell_type": "markdown",
   "id": "duplicate-festival",
   "metadata": {},
   "source": [
    "#### Training a decision tree model with outliers and all features"
   ]
  },
  {
   "cell_type": "code",
   "execution_count": 75,
   "id": "flexible-network",
   "metadata": {},
   "outputs": [],
   "source": [
    "x = df_train_dummies.drop(['avg_price_per_kg'],axis=1)\n",
    "y = df_train_dummies['avg_price_per_kg']"
   ]
  },
  {
   "cell_type": "code",
   "execution_count": 76,
   "id": "original-words",
   "metadata": {},
   "outputs": [],
   "source": [
    "# set test size to 20 % of training data\n",
    "x_train, x_test, y_train, y_test = train_test_split(x,y,test_size=0.2,random_state=42)"
   ]
  },
  {
   "cell_type": "code",
   "execution_count": 77,
   "id": "purple-young",
   "metadata": {},
   "outputs": [],
   "source": [
    "# Instantiate regression tree model\n",
    "regr_tree = DecisionTreeRegressor(max_depth=6,random_state=42)"
   ]
  },
  {
   "cell_type": "code",
   "execution_count": 78,
   "id": "upset-rhythm",
   "metadata": {},
   "outputs": [
    {
     "data": {
      "text/plain": [
       "DecisionTreeRegressor(max_depth=6, random_state=42)"
      ]
     },
     "execution_count": 78,
     "metadata": {},
     "output_type": "execute_result"
    }
   ],
   "source": [
    "regr_tree.fit(x_train,y_train)"
   ]
  },
  {
   "cell_type": "markdown",
   "id": "spread-youth",
   "metadata": {},
   "source": [
    "#### Predictions on the train data set"
   ]
  },
  {
   "cell_type": "code",
   "execution_count": 79,
   "id": "operating-bouquet",
   "metadata": {},
   "outputs": [
    {
     "name": "stdout",
     "output_type": "stream",
     "text": [
      "Regression Decision Tree model RMSE is: 0.6892033230904288\n"
     ]
    }
   ],
   "source": [
    "# get predictions for train data\n",
    "y_pred_tr = regr_tree.predict(x_train)\n",
    "\n",
    "# calculate MSE\n",
    "MSE = mean_squared_error(y_pred_tr,y_train)\n",
    "\n",
    "# Report RMSE\n",
    "print(\"Regression Decision Tree model RMSE is:\",np.sqrt(MSE))"
   ]
  },
  {
   "cell_type": "markdown",
   "id": "conventional-banana",
   "metadata": {},
   "source": [
    "#### Predictions on the train data set"
   ]
  },
  {
   "cell_type": "code",
   "execution_count": 80,
   "id": "fossil-pixel",
   "metadata": {},
   "outputs": [
    {
     "name": "stdout",
     "output_type": "stream",
     "text": [
      "Regression Decision Tree model RMSE is: 0.8373910720698639\n"
     ]
    }
   ],
   "source": [
    "# get predictions for test data\n",
    "y_pred_te = regr_tree.predict(x_test)\n",
    "\n",
    "# calculate MSE\n",
    "MSE = mean_squared_error(y_pred_te,y_test)\n",
    "\n",
    "# Report RMSE\n",
    "print(\"Regression Decision Tree model RMSE is:\",np.sqrt(MSE))"
   ]
  },
  {
   "cell_type": "markdown",
   "id": "peaceful-behavior",
   "metadata": {},
   "source": [
    "From the above observation we noticed the following:\n",
    "- At the **depth of 4** the **RMSE** on the **train** is **1.040204462525701** and on the **test** it is **1.0852530959077327**\n",
    "\n",
    "- At a **depth of 5** the **RMSE** on the **train** is **0.8626536545858563** and on the **test** it is **0.9159025722249604**\n",
    "\n",
    "- At a **depth of 10** the **RMSE** on the **train** is **0.2471846820865578** and on the **test** it is **0.759714727617998.** The model overfits the training data very badly.\n",
    "- Based on the above we shall use a **depth of 6** for the model since it yields an **RMSE** of **0.6892033230904288** on the train and **0.8373910720698639**"
   ]
  },
  {
   "cell_type": "markdown",
   "id": "joint-documentary",
   "metadata": {},
   "source": [
    "#### Training a decision tree model with statistically significant features (outliers included)"
   ]
  },
  {
   "cell_type": "code",
   "execution_count": 81,
   "id": "spare-bonus",
   "metadata": {},
   "outputs": [
    {
     "data": {
      "text/plain": [
       "(1952, 25)"
      ]
     },
     "execution_count": 81,
     "metadata": {},
     "output_type": "execute_result"
    }
   ],
   "source": [
    "df_train_dummies_copy = df_train_dummies.copy() #make a copy of df train dummies\n",
    "features = df_cp_sorted[df_cp_sorted['P_Value']<0.05].index\n",
    "\n",
    "#drop the feature we are predicting\n",
    "df_train_dummies_copy = df_train_dummies_copy.drop(['avg_price_per_kg'],axis=1)\n",
    "\n",
    "#drop irrelevant features\n",
    "irrelevant_features = [feature for feature in df_train_dummies_copy.columns if feature not in features ]\n",
    "df_train_dummies_copy = df_train_dummies_copy.drop(irrelevant_features,axis=1)\n",
    "\n",
    "\n",
    "df_train_dummies_copy.shape"
   ]
  },
  {
   "cell_type": "code",
   "execution_count": 82,
   "id": "nonprofit-floor",
   "metadata": {},
   "outputs": [],
   "source": [
    "x1 = df_train_dummies_copy\n",
    "y1 = df_train_dummies['avg_price_per_kg']\n"
   ]
  },
  {
   "cell_type": "code",
   "execution_count": 83,
   "id": "bearing-shooting",
   "metadata": {},
   "outputs": [],
   "source": [
    "# set test size to 20 % of training data\n",
    "x_train1, x_test1, y_train1, y_test1 = train_test_split(x1,y1,test_size=0.2,random_state=42)"
   ]
  },
  {
   "cell_type": "code",
   "execution_count": 84,
   "id": "oriental-google",
   "metadata": {},
   "outputs": [],
   "source": [
    "# Instantiate regression tree model\n",
    "regr_tree1 = DecisionTreeRegressor(max_depth=7,random_state=42)"
   ]
  },
  {
   "cell_type": "code",
   "execution_count": 85,
   "id": "offensive-conjunction",
   "metadata": {},
   "outputs": [
    {
     "data": {
      "text/plain": [
       "DecisionTreeRegressor(max_depth=7, random_state=42)"
      ]
     },
     "execution_count": 85,
     "metadata": {},
     "output_type": "execute_result"
    }
   ],
   "source": [
    "regr_tree1.fit(x_train1,y_train1)"
   ]
  },
  {
   "cell_type": "markdown",
   "id": "through-japan",
   "metadata": {},
   "source": [
    "#### Predictions on the train data set"
   ]
  },
  {
   "cell_type": "code",
   "execution_count": 86,
   "id": "different-rogers",
   "metadata": {},
   "outputs": [
    {
     "name": "stdout",
     "output_type": "stream",
     "text": [
      "Regression Decision Tree model RMSE train is: 0.5739768569705725\n"
     ]
    }
   ],
   "source": [
    "# get predictions for train data\n",
    "y_pred_tr = regr_tree1.predict(x_train1)\n",
    "\n",
    "# calculate MSE\n",
    "MSE = mean_squared_error(y_pred_tr,y_train1)\n",
    "\n",
    "# Report RMSE\n",
    "print(\"Regression Decision Tree model RMSE train is:\",np.sqrt(MSE))"
   ]
  },
  {
   "cell_type": "markdown",
   "id": "cardiovascular-westminster",
   "metadata": {},
   "source": [
    "#### Predictions on the test data set"
   ]
  },
  {
   "cell_type": "code",
   "execution_count": 87,
   "id": "sophisticated-swing",
   "metadata": {},
   "outputs": [
    {
     "name": "stdout",
     "output_type": "stream",
     "text": [
      "Regression Decision Tree model RMSE test is: 0.7865164725040444\n"
     ]
    }
   ],
   "source": [
    "# get predictions for test data\n",
    "y_pred_te = regr_tree1.predict(x_test1)\n",
    "\n",
    "# calculate MSE\n",
    "MSE = mean_squared_error(y_pred_te,y_test1)\n",
    "\n",
    "# Report RMSE\n",
    "print(\"Regression Decision Tree model RMSE test is:\",np.sqrt(MSE))"
   ]
  },
  {
   "cell_type": "markdown",
   "id": "dressed-samuel",
   "metadata": {},
   "source": [
    "From the above we note that even though we used **significant features** which gave an **RMSE** of **0.7865164725040444,** the model's **improvement is very small** compared to the **RMSE** of **0.8373910720698639** when all features were used."
   ]
  },
  {
   "cell_type": "markdown",
   "id": "indie-roads",
   "metadata": {},
   "source": [
    "#### Training a support vector regressor with significant features"
   ]
  },
  {
   "cell_type": "code",
   "execution_count": 88,
   "id": "dramatic-oxford",
   "metadata": {},
   "outputs": [],
   "source": [
    "sv_reg = SVR(kernel = 'rbf', gamma = 'auto')"
   ]
  },
  {
   "cell_type": "code",
   "execution_count": 89,
   "id": "fifth-conditions",
   "metadata": {},
   "outputs": [
    {
     "data": {
      "text/plain": [
       "SVR(gamma='auto')"
      ]
     },
     "execution_count": 89,
     "metadata": {},
     "output_type": "execute_result"
    }
   ],
   "source": [
    "sv_reg.fit(x_train1,y_train1)"
   ]
  },
  {
   "cell_type": "code",
   "execution_count": 90,
   "id": "suburban-slovenia",
   "metadata": {},
   "outputs": [],
   "source": [
    "y_pred_te = sv_reg.predict(x_test1)"
   ]
  },
  {
   "cell_type": "code",
   "execution_count": 91,
   "id": "nutritional-premium",
   "metadata": {},
   "outputs": [
    {
     "name": "stdout",
     "output_type": "stream",
     "text": [
      "support vector regressor model RMSE is: 2.0758433562384404\n"
     ]
    }
   ],
   "source": [
    "MSE = mean_squared_error(y_test1,y_pred_te)\n",
    "print(\"support vector regressor model RMSE is:\",np.sqrt(MSE))"
   ]
  },
  {
   "cell_type": "markdown",
   "id": "satisfied-senior",
   "metadata": {},
   "source": [
    "The **support vector regressor** performs very poorly resulting in an **RMSE score of 2.0758433562384404** when compare to a decision tree."
   ]
  },
  {
   "cell_type": "markdown",
   "id": "excellent-cleaning",
   "metadata": {},
   "source": [
    "### Improving the models"
   ]
  },
  {
   "cell_type": "markdown",
   "id": "blond-organ",
   "metadata": {},
   "source": [
    "#### Bagging - AKA Bootstrap Aggregating"
   ]
  },
  {
   "cell_type": "code",
   "execution_count": 92,
   "id": "essential-space",
   "metadata": {},
   "outputs": [],
   "source": [
    "# Instantiate BaggingRegressor model with a decision tree as the base model\n",
    "bag_reg = BaggingRegressor(base_estimator = regr_tree1, random_state = 32)"
   ]
  },
  {
   "cell_type": "code",
   "execution_count": 93,
   "id": "worthy-postcard",
   "metadata": {},
   "outputs": [
    {
     "data": {
      "text/plain": [
       "BaggingRegressor(base_estimator=DecisionTreeRegressor(max_depth=7,\n",
       "                                                      random_state=42),\n",
       "                 random_state=32)"
      ]
     },
     "execution_count": 93,
     "metadata": {},
     "output_type": "execute_result"
    }
   ],
   "source": [
    "bag_reg.fit(x_train1,y_train1)"
   ]
  },
  {
   "cell_type": "markdown",
   "id": "joined-tackle",
   "metadata": {},
   "source": [
    "#### Predictions on the train data set"
   ]
  },
  {
   "cell_type": "code",
   "execution_count": 94,
   "id": "norwegian-sponsorship",
   "metadata": {},
   "outputs": [
    {
     "name": "stdout",
     "output_type": "stream",
     "text": [
      "Decision Tree Bagging model train RMSE is: 0.5499235152169769\n"
     ]
    }
   ],
   "source": [
    "# get predictions for train data\n",
    "y_pred_tr = bag_reg.predict(x_train1)\n",
    "\n",
    "# calculate MSE\n",
    "MSE = mean_squared_error(y_pred_tr,y_train1)\n",
    "\n",
    "# Report RMSE\n",
    "print(\"Decision Tree Bagging model train RMSE is:\",np.sqrt(MSE))"
   ]
  },
  {
   "cell_type": "markdown",
   "id": "following-kingston",
   "metadata": {},
   "source": [
    "#### Predictions on the test data set"
   ]
  },
  {
   "cell_type": "code",
   "execution_count": 95,
   "id": "south-delta",
   "metadata": {},
   "outputs": [
    {
     "name": "stdout",
     "output_type": "stream",
     "text": [
      "Decision Tree Bagging model test RMSE is: 0.5966288875878257\n"
     ]
    }
   ],
   "source": [
    "y_pred_te = bag_reg.predict(x_test1)\n",
    "MSE = mean_squared_error(y_pred_te,y_test1)\n",
    "# Report RMSE\n",
    "print(\"Decision Tree Bagging model test RMSE is:\",np.sqrt(MSE))"
   ]
  },
  {
   "cell_type": "markdown",
   "id": "occupied-layout",
   "metadata": {},
   "source": [
    " From the above, Bagging ensemble method with base tree of depth 7 performed way better overall with an **RMSE** of  **0.5499235152169769** in the **train** and **0.5966288875878257** in the test when compared to decision trees without ensemble methods as well as support vectore machines."
   ]
  },
  {
   "cell_type": "markdown",
   "id": "effective-broadcasting",
   "metadata": {},
   "source": [
    "#### Boosting"
   ]
  },
  {
   "cell_type": "code",
   "execution_count": 96,
   "id": "generic-circuit",
   "metadata": {},
   "outputs": [],
   "source": [
    "# Instantiate AdaBoostRegressor model with a decision tree as the base model\n",
    "bst_reg = AdaBoostRegressor(base_estimator = regr_tree1,random_state=42)"
   ]
  },
  {
   "cell_type": "code",
   "execution_count": 97,
   "id": "powerful-teaching",
   "metadata": {},
   "outputs": [
    {
     "data": {
      "text/plain": [
       "AdaBoostRegressor(base_estimator=DecisionTreeRegressor(max_depth=7,\n",
       "                                                       random_state=42),\n",
       "                  random_state=42)"
      ]
     },
     "execution_count": 97,
     "metadata": {},
     "output_type": "execute_result"
    }
   ],
   "source": [
    "bst_reg.fit(x_train1,y_train1)"
   ]
  },
  {
   "cell_type": "markdown",
   "id": "greater-backup",
   "metadata": {},
   "source": [
    "#### Predictions on the train data set"
   ]
  },
  {
   "cell_type": "code",
   "execution_count": 98,
   "id": "established-legislation",
   "metadata": {},
   "outputs": [
    {
     "name": "stdout",
     "output_type": "stream",
     "text": [
      "Decision Tree boosting model RMSE train is: 0.3201151602884885\n"
     ]
    }
   ],
   "source": [
    "# get predictions for train data\n",
    "y_pred_tr = bst_reg.predict(x_train1)\n",
    "\n",
    "# calculate MSE\n",
    "MSE = mean_squared_error(y_pred_tr,y_train1)\n",
    "\n",
    "# Report RMSE\n",
    "print(\"Decision Tree boosting model RMSE train is:\",np.sqrt(MSE))"
   ]
  },
  {
   "cell_type": "markdown",
   "id": "brief-snowboard",
   "metadata": {},
   "source": [
    "#### Predictions on the test data set"
   ]
  },
  {
   "cell_type": "code",
   "execution_count": 99,
   "id": "encouraging-heater",
   "metadata": {},
   "outputs": [
    {
     "name": "stdout",
     "output_type": "stream",
     "text": [
      "Decision Tree boosting model RMSE test is: 0.5735929585115709\n"
     ]
    }
   ],
   "source": [
    "y_pred_te = bst_reg.predict(x_test1)\n",
    "# calculate MSE\n",
    "MSE = mean_squared_error(y_pred_te,y_test1)\n",
    "\n",
    "# Report RMSE\n",
    "print(\"Decision Tree boosting model RMSE test is:\",np.sqrt(MSE))"
   ]
  },
  {
   "cell_type": "markdown",
   "id": "electoral-enemy",
   "metadata": {},
   "source": [
    " Boosting a decision tree with a depth 7 **overfits** the data quite badly even when the depth of the tree is tweeked, boosting still doesn't improve the decision tree."
   ]
  },
  {
   "cell_type": "markdown",
   "id": "abroad-roberts",
   "metadata": {},
   "source": [
    "### Random forests"
   ]
  },
  {
   "cell_type": "code",
   "execution_count": 100,
   "id": "instant-baker",
   "metadata": {},
   "outputs": [
    {
     "data": {
      "text/plain": [
       "RandomForestRegressor(max_depth=7, n_estimators=40, random_state=42)"
      ]
     },
     "execution_count": 100,
     "metadata": {},
     "output_type": "execute_result"
    }
   ],
   "source": [
    "# Our forest consists of 40 trees with a max depth of 7\n",
    "RF = RandomForestRegressor(n_estimators=40, max_depth=7,random_state = 42)\n",
    "RF.fit(x_train1,y_train1)"
   ]
  },
  {
   "cell_type": "code",
   "execution_count": 101,
   "id": "quality-crossing",
   "metadata": {},
   "outputs": [],
   "source": [
    "# Get predictions train\n",
    "y_pred_tr = RF.predict(x_train1)"
   ]
  },
  {
   "cell_type": "code",
   "execution_count": 102,
   "id": "experienced-printing",
   "metadata": {},
   "outputs": [
    {
     "name": "stdout",
     "output_type": "stream",
     "text": [
      "RMSE: 0.5424498425267354\n"
     ]
    }
   ],
   "source": [
    "# Get predictions train\n",
    "y_pred_tr = RF.predict(x_train1)\n",
    "\n",
    "# Compute RMSE\n",
    "print(\"RMSE:\",np.sqrt(mean_squared_error(y_train1,y_pred_tr)))"
   ]
  },
  {
   "cell_type": "code",
   "execution_count": 103,
   "id": "flush-cruise",
   "metadata": {},
   "outputs": [
    {
     "name": "stdout",
     "output_type": "stream",
     "text": [
      "RMSE: 0.5926163447732669\n"
     ]
    }
   ],
   "source": [
    "y_pred_te = RF.predict(x_test1)\n",
    "\n",
    "# Compute RMSE\n",
    "print(\"RMSE:\",np.sqrt(mean_squared_error(y_test1,y_pred_te)))"
   ]
  },
  {
   "cell_type": "markdown",
   "id": "floral-novelty",
   "metadata": {},
   "source": [
    "#### Boosting a random forest"
   ]
  },
  {
   "cell_type": "code",
   "execution_count": 104,
   "id": "disabled-courtesy",
   "metadata": {},
   "outputs": [
    {
     "data": {
      "text/plain": [
       "AdaBoostRegressor(base_estimator=RandomForestRegressor(max_depth=7,\n",
       "                                                       n_estimators=40,\n",
       "                                                       random_state=42),\n",
       "                  random_state=42)"
      ]
     },
     "execution_count": 104,
     "metadata": {},
     "output_type": "execute_result"
    }
   ],
   "source": [
    "# Instantiate AdaBoostRegressor model with a random forest as the base model\n",
    "bst_regr = AdaBoostRegressor(base_estimator = RF,random_state=42)\n",
    "bst_regr.fit(x_train1,y_train1)"
   ]
  },
  {
   "cell_type": "code",
   "execution_count": 105,
   "id": "blocked-portuguese",
   "metadata": {
    "scrolled": true
   },
   "outputs": [
    {
     "name": "stdout",
     "output_type": "stream",
     "text": [
      "RMSE: 0.5802424159832447\n"
     ]
    }
   ],
   "source": [
    "y_pred_te = bst_regr.predict(x_test1)\n",
    "\n",
    "# Compute RMSE\n",
    "print(\"RMSE:\",np.sqrt(mean_squared_error(y_test1,y_pred_te)))"
   ]
  },
  {
   "cell_type": "markdown",
   "id": "corporate-commissioner",
   "metadata": {},
   "source": [
    "Boosting a random forest does not improve the RMSE score as expected since random forests are a type of emsemble method."
   ]
  },
  {
   "cell_type": "markdown",
   "id": "level-adobe",
   "metadata": {},
   "source": [
    "#### Bagging a random forest"
   ]
  },
  {
   "cell_type": "code",
   "execution_count": 106,
   "id": "sapphire-jerusalem",
   "metadata": {},
   "outputs": [
    {
     "data": {
      "text/plain": [
       "BaggingRegressor(base_estimator=RandomForestRegressor(max_depth=7,\n",
       "                                                      n_estimators=40,\n",
       "                                                      random_state=42),\n",
       "                 random_state=42)"
      ]
     },
     "execution_count": 106,
     "metadata": {},
     "output_type": "execute_result"
    }
   ],
   "source": [
    "# Instantiate BaggingRegressor model with a random forest as the base model\n",
    "bag_regr = BaggingRegressor(base_estimator = RF,random_state = 42)\n",
    "bag_regr.fit(x_train1,y_train1)"
   ]
  },
  {
   "cell_type": "code",
   "execution_count": 107,
   "id": "recognized-sierra",
   "metadata": {},
   "outputs": [
    {
     "name": "stdout",
     "output_type": "stream",
     "text": [
      "Decision Tree Bagging model test RMSE is: 0.6197010276100098\n"
     ]
    }
   ],
   "source": [
    "y_pred_te = bag_regr.predict(x_test1)\n",
    "MSE = mean_squared_error(y_pred_te,y_test1)\n",
    "# Report RMSE\n",
    "print(\"Decision Tree Bagging model test RMSE is:\",np.sqrt(MSE))"
   ]
  },
  {
   "cell_type": "markdown",
   "id": "talented-offer",
   "metadata": {},
   "source": [
    "Bagging a random forest also does not improve the RMSE score as expected since random forests are a type of emsemble method."
   ]
  },
  {
   "cell_type": "markdown",
   "id": "headed-chocolate",
   "metadata": {},
   "source": [
    "**Random forests** suprisingly **does not improve** the RMSE score in fact the score is similar to decison trees with ensemble methods."
   ]
  },
  {
   "cell_type": "markdown",
   "id": "senior-death",
   "metadata": {},
   "source": [
    "### Making predictions with the external test set"
   ]
  },
  {
   "cell_type": "code",
   "execution_count": 108,
   "id": "smooth-yacht",
   "metadata": {},
   "outputs": [],
   "source": [
    "#get predictions for the external test data\n",
    "df_test_d=df_test_dummies.copy()\n",
    "df_test_d=df_test_d.drop(['Index'],axis=1)\n",
    "df_test_d=df_test_d.drop(irrelevant_features,axis = 1)\n",
    "y_pred = bag_reg.predict(df_test_d)"
   ]
  },
  {
   "cell_type": "code",
   "execution_count": 109,
   "id": "furnished-candidate",
   "metadata": {},
   "outputs": [
    {
     "data": {
      "text/html": [
       "<div>\n",
       "<style scoped>\n",
       "    .dataframe tbody tr th:only-of-type {\n",
       "        vertical-align: middle;\n",
       "    }\n",
       "\n",
       "    .dataframe tbody tr th {\n",
       "        vertical-align: top;\n",
       "    }\n",
       "\n",
       "    .dataframe thead th {\n",
       "        text-align: right;\n",
       "    }\n",
       "</style>\n",
       "<table border=\"1\" class=\"dataframe\">\n",
       "  <thead>\n",
       "    <tr style=\"text-align: right;\">\n",
       "      <th></th>\n",
       "      <th>Index</th>\n",
       "      <th>avg_price_per_kg</th>\n",
       "    </tr>\n",
       "  </thead>\n",
       "  <tbody>\n",
       "    <tr>\n",
       "      <th>0</th>\n",
       "      <td>1</td>\n",
       "      <td>10.475012</td>\n",
       "    </tr>\n",
       "    <tr>\n",
       "      <th>1</th>\n",
       "      <td>2</td>\n",
       "      <td>11.671315</td>\n",
       "    </tr>\n",
       "    <tr>\n",
       "      <th>2</th>\n",
       "      <td>3</td>\n",
       "      <td>9.927898</td>\n",
       "    </tr>\n",
       "    <tr>\n",
       "      <th>3</th>\n",
       "      <td>4</td>\n",
       "      <td>8.667853</td>\n",
       "    </tr>\n",
       "    <tr>\n",
       "      <th>4</th>\n",
       "      <td>5</td>\n",
       "      <td>7.691182</td>\n",
       "    </tr>\n",
       "  </tbody>\n",
       "</table>\n",
       "</div>"
      ],
      "text/plain": [
       "   Index  avg_price_per_kg\n",
       "0      1         10.475012\n",
       "1      2         11.671315\n",
       "2      3          9.927898\n",
       "3      4          8.667853\n",
       "4      5          7.691182"
      ]
     },
     "execution_count": 109,
     "metadata": {},
     "output_type": "execute_result"
    }
   ],
   "source": [
    "# uploading to kaggle\n",
    "submission = pd.DataFrame({'Index':df_test_dummies['Index'],'avg_price_per_kg':y_pred})\n",
    "submission.head()"
   ]
  },
  {
   "cell_type": "code",
   "execution_count": 110,
   "id": "optimum-claim",
   "metadata": {},
   "outputs": [],
   "source": [
    "file_name = 'decision_trees_final.csv'\n",
    "submission.to_csv(file_name,index=False)"
   ]
  },
  {
   "cell_type": "markdown",
   "id": "structural-depth",
   "metadata": {},
   "source": [
    "- **kaggle score for multiple linear regression:  0.79331**\n",
    "- **kaggle score for decision trees with all columns (date column transformed) is: 0.73097**\n",
    "- **kaggle score decision tree with significant features is: 0.72747**\n",
    "- **kaggle score - bagging of a base decison tree with depth 6 is:  0.67898**\n",
    "- **kaggle score for bagging of a base decison tree with depth 7 : 0.56659**"
   ]
  },
  {
   "cell_type": "markdown",
   "id": "solid-influence",
   "metadata": {},
   "source": [
    "## Conclusion"
   ]
  },
  {
   "cell_type": "markdown",
   "id": "corrected-female",
   "metadata": {},
   "source": [
    "Based on all the models we have trained (multiple linear regression,support vector machines, decision trees, random forests) we conclude that **decision trees with bagging** performed well overall hence this is our final model that we'll use in our API."
   ]
  }
 ],
 "metadata": {
  "kernelspec": {
   "display_name": "Python 3",
   "language": "python",
   "name": "python3"
  },
  "language_info": {
   "codemirror_mode": {
    "name": "ipython",
    "version": 3
   },
   "file_extension": ".py",
   "mimetype": "text/x-python",
   "name": "python",
   "nbconvert_exporter": "python",
   "pygments_lexer": "ipython3",
   "version": "3.9.1"
  }
 },
 "nbformat": 4,
 "nbformat_minor": 5
}
